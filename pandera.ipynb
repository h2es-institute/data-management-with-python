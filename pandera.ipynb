{
 "cells": [
  {
   "cell_type": "markdown",
   "metadata": {},
   "source": [
    "# Validez vos dataframe avec pandera\n",
    "La validatation du dataframe signifie vérifier que les données contenues dans le dataframe respectent un certains nombre de conditions. Ceci peut être utile lorsque **vous recevez régulièrement des données d'un client pour exécuter un script, ou quand vous avec développez un script sur un jeu de données et que vous devez exécuter le même script les données de la prod. Il est important que les données respectent le format défini**. "
   ]
  },
  {
   "cell_type": "code",
   "execution_count": 1,
   "metadata": {
    "ExecuteTime": {
     "end_time": "2022-04-10T18:03:32.621020Z",
     "start_time": "2022-04-10T18:03:32.607058Z"
    }
   },
   "outputs": [],
   "source": [
    "# !pip install pandera"
   ]
  },
  {
   "cell_type": "code",
   "execution_count": 24,
   "metadata": {
    "ExecuteTime": {
     "end_time": "2022-04-10T18:03:54.641114Z",
     "start_time": "2022-04-10T18:03:54.635133Z"
    }
   },
   "outputs": [],
   "source": [
    "# packages nécessaires\n",
    "import pandera as pa\n",
    "import pandas as pd"
   ]
  },
  {
   "cell_type": "code",
   "execution_count": 3,
   "metadata": {
    "ExecuteTime": {
     "end_time": "2022-04-10T18:03:34.097948Z",
     "start_time": "2022-04-10T18:03:34.084135Z"
    }
   },
   "outputs": [],
   "source": [
    "# settings\n",
    "pd.options.mode.chained_assignment = None\n",
    "pd.set_option('display.max_rows', 4000)\n",
    "pd.set_option('display.max_columns', None)"
   ]
  },
  {
   "cell_type": "code",
   "execution_count": 4,
   "metadata": {
    "ExecuteTime": {
     "end_time": "2022-04-10T18:03:34.115125Z",
     "start_time": "2022-04-10T18:03:34.100248Z"
    }
   },
   "outputs": [],
   "source": [
    "# sample data\n",
    "df = pd.DataFrame({\n",
    "    'prenom': [\"Hugo\", \"Pierre\", \"Anais\", \"Christophe\", \"Samira\", \"Sabrina\"],\n",
    "    'age' : [18, 25, 20, 21, 22, 24],\n",
    "    'pays' : [\"France\", \"Belgique\", \"Italie\", \"Allemagne\", \"France\", \"Italie\"]\n",
    "})"
   ]
  },
  {
   "cell_type": "code",
   "execution_count": 5,
   "metadata": {
    "ExecuteTime": {
     "end_time": "2022-04-10T18:03:34.145493Z",
     "start_time": "2022-04-10T18:03:34.117118Z"
    }
   },
   "outputs": [
    {
     "data": {
      "text/html": [
       "<div>\n",
       "<style scoped>\n",
       "    .dataframe tbody tr th:only-of-type {\n",
       "        vertical-align: middle;\n",
       "    }\n",
       "\n",
       "    .dataframe tbody tr th {\n",
       "        vertical-align: top;\n",
       "    }\n",
       "\n",
       "    .dataframe thead th {\n",
       "        text-align: right;\n",
       "    }\n",
       "</style>\n",
       "<table border=\"1\" class=\"dataframe\">\n",
       "  <thead>\n",
       "    <tr style=\"text-align: right;\">\n",
       "      <th></th>\n",
       "      <th>prenom</th>\n",
       "      <th>age</th>\n",
       "      <th>pays</th>\n",
       "    </tr>\n",
       "  </thead>\n",
       "  <tbody>\n",
       "    <tr>\n",
       "      <th>0</th>\n",
       "      <td>Hugo</td>\n",
       "      <td>18</td>\n",
       "      <td>France</td>\n",
       "    </tr>\n",
       "    <tr>\n",
       "      <th>1</th>\n",
       "      <td>Pierre</td>\n",
       "      <td>25</td>\n",
       "      <td>Belgique</td>\n",
       "    </tr>\n",
       "    <tr>\n",
       "      <th>2</th>\n",
       "      <td>Anais</td>\n",
       "      <td>20</td>\n",
       "      <td>Italie</td>\n",
       "    </tr>\n",
       "    <tr>\n",
       "      <th>3</th>\n",
       "      <td>Christophe</td>\n",
       "      <td>21</td>\n",
       "      <td>Allemagne</td>\n",
       "    </tr>\n",
       "    <tr>\n",
       "      <th>4</th>\n",
       "      <td>Samira</td>\n",
       "      <td>22</td>\n",
       "      <td>France</td>\n",
       "    </tr>\n",
       "    <tr>\n",
       "      <th>5</th>\n",
       "      <td>Sabrina</td>\n",
       "      <td>24</td>\n",
       "      <td>Italie</td>\n",
       "    </tr>\n",
       "  </tbody>\n",
       "</table>\n",
       "</div>"
      ],
      "text/plain": [
       "       prenom  age       pays\n",
       "0        Hugo   18     France\n",
       "1      Pierre   25   Belgique\n",
       "2       Anais   20     Italie\n",
       "3  Christophe   21  Allemagne\n",
       "4      Samira   22     France\n",
       "5     Sabrina   24     Italie"
      ]
     },
     "execution_count": 5,
     "metadata": {},
     "output_type": "execute_result"
    }
   ],
   "source": [
    "df"
   ]
  },
  {
   "cell_type": "markdown",
   "metadata": {},
   "source": [
    "# Conditioins à vérifier"
   ]
  },
  {
   "cell_type": "code",
   "execution_count": 6,
   "metadata": {
    "ExecuteTime": {
     "end_time": "2022-04-10T18:03:34.160551Z",
     "start_time": "2022-04-10T18:03:34.147858Z"
    }
   },
   "outputs": [
    {
     "data": {
      "text/html": [
       "<div>\n",
       "<style scoped>\n",
       "    .dataframe tbody tr th:only-of-type {\n",
       "        vertical-align: middle;\n",
       "    }\n",
       "\n",
       "    .dataframe tbody tr th {\n",
       "        vertical-align: top;\n",
       "    }\n",
       "\n",
       "    .dataframe thead th {\n",
       "        text-align: right;\n",
       "    }\n",
       "</style>\n",
       "<table border=\"1\" class=\"dataframe\">\n",
       "  <thead>\n",
       "    <tr style=\"text-align: right;\">\n",
       "      <th></th>\n",
       "      <th>prenom</th>\n",
       "      <th>age</th>\n",
       "      <th>pays</th>\n",
       "    </tr>\n",
       "  </thead>\n",
       "  <tbody>\n",
       "    <tr>\n",
       "      <th>0</th>\n",
       "      <td>Hugo</td>\n",
       "      <td>18</td>\n",
       "      <td>France</td>\n",
       "    </tr>\n",
       "    <tr>\n",
       "      <th>1</th>\n",
       "      <td>Pierre</td>\n",
       "      <td>25</td>\n",
       "      <td>Belgique</td>\n",
       "    </tr>\n",
       "    <tr>\n",
       "      <th>2</th>\n",
       "      <td>Anais</td>\n",
       "      <td>20</td>\n",
       "      <td>Italie</td>\n",
       "    </tr>\n",
       "    <tr>\n",
       "      <th>3</th>\n",
       "      <td>Christophe</td>\n",
       "      <td>21</td>\n",
       "      <td>Allemagne</td>\n",
       "    </tr>\n",
       "    <tr>\n",
       "      <th>4</th>\n",
       "      <td>Samira</td>\n",
       "      <td>22</td>\n",
       "      <td>France</td>\n",
       "    </tr>\n",
       "    <tr>\n",
       "      <th>5</th>\n",
       "      <td>Sabrina</td>\n",
       "      <td>24</td>\n",
       "      <td>Italie</td>\n",
       "    </tr>\n",
       "  </tbody>\n",
       "</table>\n",
       "</div>"
      ],
      "text/plain": [
       "       prenom  age       pays\n",
       "0        Hugo   18     France\n",
       "1      Pierre   25   Belgique\n",
       "2       Anais   20     Italie\n",
       "3  Christophe   21  Allemagne\n",
       "4      Samira   22     France\n",
       "5     Sabrina   24     Italie"
      ]
     },
     "execution_count": 6,
     "metadata": {},
     "output_type": "execute_result"
    }
   ],
   "source": [
    "# définition du schéma à valider\n",
    "schema = pa.DataFrameSchema({\n",
    "    \"age\": pa.Column(int, pa.Check.less_than(26)),\n",
    "    \"pays\": pa.Column(str, pa.Check.isin([\"France\", \"Allemagne\", \"Italie\", \"Belgique\"])),\n",
    "})\n",
    "# validation du schéma sur le data\n",
    "schema.validate(df)"
   ]
  },
  {
   "cell_type": "code",
   "execution_count": 7,
   "metadata": {
    "ExecuteTime": {
     "end_time": "2022-04-10T18:03:34.227945Z",
     "start_time": "2022-04-10T18:03:34.168432Z"
    }
   },
   "outputs": [
    {
     "name": "stdout",
     "output_type": "stream",
     "text": [
      "A total of 2 schema errors were found.\n",
      "\n",
      "Error Counts\n",
      "------------\n",
      "- schema_component_check: 2\n",
      "\n",
      "Schema Error Summary\n",
      "--------------------\n",
      "                                                              failure_cases  n_failure_cases\n",
      "schema_context column check                                                                 \n",
      "Column         age    less_than(25)                                    [25]                1\n",
      "               pays   isin({'Allemagne', 'Italie', 'France'})    [Belgique]                1\n",
      "\n",
      "Usage Tip\n",
      "---------\n",
      "\n",
      "Directly inspect all errors by catching the exception:\n",
      "\n",
      "```\n",
      "try:\n",
      "    schema.validate(dataframe, lazy=True)\n",
      "except SchemaErrors as err:\n",
      "    err.failure_cases  # dataframe of schema errors\n",
      "    err.data  # invalid dataframe\n",
      "```\n",
      "\n"
     ]
    }
   ],
   "source": [
    "# définition du schéma à valider\n",
    "schema = pa.DataFrameSchema({\n",
    "    \"age\": pa.Column(int, pa.Check.less_than(25)),\n",
    "    \"pays\": pa.Column(str, pa.Check.isin([\"France\", \"Allemagne\", \"Italie\"])),\n",
    "})\n",
    "# validation du schéma sur le data\n",
    "try:\n",
    "    schema.validate(check_obj = df, \n",
    "                    lazy=True)\n",
    "except Exception as e:\n",
    "    print(str(e))"
   ]
  },
  {
   "cell_type": "code",
   "execution_count": 8,
   "metadata": {
    "ExecuteTime": {
     "end_time": "2022-04-10T18:03:34.239359Z",
     "start_time": "2022-04-10T18:03:34.229924Z"
    }
   },
   "outputs": [
    {
     "data": {
      "text/plain": [
       "<Schema DataFrameSchema(columns={'age': <Schema Column(name=age, type=DataType(int64))>, 'pays': <Schema Column(name=pays, type=DataType(str))>}, checks=[], index=None, coerce=False, dtype=None, strict=False, name=None, ordered=False, unique_column_names=False)>"
      ]
     },
     "execution_count": 8,
     "metadata": {},
     "output_type": "execute_result"
    }
   ],
   "source": [
    "schema"
   ]
  },
  {
   "cell_type": "markdown",
   "metadata": {},
   "source": [
    "# D'autres fonctions de checks\n",
    "on peut retrouver d'autres fonctions de check déjà écrites [ici](https://pandera.readthedocs.io/en/latest/reference/generated/pandera.checks.Check.html#pandera.checks.Check)"
   ]
  },
  {
   "cell_type": "code",
   "execution_count": 9,
   "metadata": {
    "ExecuteTime": {
     "end_time": "2022-04-10T18:03:34.264648Z",
     "start_time": "2022-04-10T18:03:34.241895Z"
    }
   },
   "outputs": [
    {
     "data": {
      "text/html": [
       "<div>\n",
       "<style scoped>\n",
       "    .dataframe tbody tr th:only-of-type {\n",
       "        vertical-align: middle;\n",
       "    }\n",
       "\n",
       "    .dataframe tbody tr th {\n",
       "        vertical-align: top;\n",
       "    }\n",
       "\n",
       "    .dataframe thead th {\n",
       "        text-align: right;\n",
       "    }\n",
       "</style>\n",
       "<table border=\"1\" class=\"dataframe\">\n",
       "  <thead>\n",
       "    <tr style=\"text-align: right;\">\n",
       "      <th></th>\n",
       "      <th>prenom</th>\n",
       "      <th>age</th>\n",
       "      <th>pays</th>\n",
       "    </tr>\n",
       "  </thead>\n",
       "  <tbody>\n",
       "    <tr>\n",
       "      <th>0</th>\n",
       "      <td>Hugo</td>\n",
       "      <td>18</td>\n",
       "      <td>France</td>\n",
       "    </tr>\n",
       "    <tr>\n",
       "      <th>1</th>\n",
       "      <td>Pierre</td>\n",
       "      <td>25</td>\n",
       "      <td>Belgique</td>\n",
       "    </tr>\n",
       "    <tr>\n",
       "      <th>2</th>\n",
       "      <td>Anais</td>\n",
       "      <td>20</td>\n",
       "      <td>Italie</td>\n",
       "    </tr>\n",
       "    <tr>\n",
       "      <th>3</th>\n",
       "      <td>Christophe</td>\n",
       "      <td>21</td>\n",
       "      <td>Allemagne</td>\n",
       "    </tr>\n",
       "    <tr>\n",
       "      <th>4</th>\n",
       "      <td>Samira</td>\n",
       "      <td>22</td>\n",
       "      <td>France</td>\n",
       "    </tr>\n",
       "    <tr>\n",
       "      <th>5</th>\n",
       "      <td>Sabrina</td>\n",
       "      <td>24</td>\n",
       "      <td>Italie</td>\n",
       "    </tr>\n",
       "  </tbody>\n",
       "</table>\n",
       "</div>"
      ],
      "text/plain": [
       "       prenom  age       pays\n",
       "0        Hugo   18     France\n",
       "1      Pierre   25   Belgique\n",
       "2       Anais   20     Italie\n",
       "3  Christophe   21  Allemagne\n",
       "4      Samira   22     France\n",
       "5     Sabrina   24     Italie"
      ]
     },
     "execution_count": 9,
     "metadata": {},
     "output_type": "execute_result"
    }
   ],
   "source": [
    "# définition du schéma à valider\n",
    "schema = pa.DataFrameSchema({\n",
    "    \"age\": pa.Column(int, pa.Check.le(25)),\n",
    "    \"pays\": pa.Column(str, pa.Check.isin([\"France\", \"Allemagne\", \"Italie\", \"Belgique\"])),\n",
    "})\n",
    "# validation du schéma sur le data\n",
    "schema.validate(df)\n"
   ]
  },
  {
   "cell_type": "markdown",
   "metadata": {
    "ExecuteTime": {
     "end_time": "2022-04-07T15:56:30.308064Z",
     "start_time": "2022-04-07T15:56:30.282599Z"
    }
   },
   "source": [
    "# Personaliser ses fonctions de check"
   ]
  },
  {
   "cell_type": "code",
   "execution_count": 10,
   "metadata": {
    "ExecuteTime": {
     "end_time": "2022-04-10T18:03:34.293397Z",
     "start_time": "2022-04-10T18:03:34.267189Z"
    }
   },
   "outputs": [
    {
     "data": {
      "text/html": [
       "<div>\n",
       "<style scoped>\n",
       "    .dataframe tbody tr th:only-of-type {\n",
       "        vertical-align: middle;\n",
       "    }\n",
       "\n",
       "    .dataframe tbody tr th {\n",
       "        vertical-align: top;\n",
       "    }\n",
       "\n",
       "    .dataframe thead th {\n",
       "        text-align: right;\n",
       "    }\n",
       "</style>\n",
       "<table border=\"1\" class=\"dataframe\">\n",
       "  <thead>\n",
       "    <tr style=\"text-align: right;\">\n",
       "      <th></th>\n",
       "      <th>prenom</th>\n",
       "      <th>age</th>\n",
       "      <th>pays</th>\n",
       "    </tr>\n",
       "  </thead>\n",
       "  <tbody>\n",
       "    <tr>\n",
       "      <th>0</th>\n",
       "      <td>Hugo</td>\n",
       "      <td>18</td>\n",
       "      <td>France</td>\n",
       "    </tr>\n",
       "    <tr>\n",
       "      <th>1</th>\n",
       "      <td>Pierre</td>\n",
       "      <td>25</td>\n",
       "      <td>Belgique</td>\n",
       "    </tr>\n",
       "    <tr>\n",
       "      <th>2</th>\n",
       "      <td>Anais</td>\n",
       "      <td>20</td>\n",
       "      <td>Italie</td>\n",
       "    </tr>\n",
       "    <tr>\n",
       "      <th>3</th>\n",
       "      <td>Christophe</td>\n",
       "      <td>21</td>\n",
       "      <td>Allemagne</td>\n",
       "    </tr>\n",
       "    <tr>\n",
       "      <th>4</th>\n",
       "      <td>Samira</td>\n",
       "      <td>22</td>\n",
       "      <td>France</td>\n",
       "    </tr>\n",
       "    <tr>\n",
       "      <th>5</th>\n",
       "      <td>Sabrina</td>\n",
       "      <td>24</td>\n",
       "      <td>Italie</td>\n",
       "    </tr>\n",
       "  </tbody>\n",
       "</table>\n",
       "</div>"
      ],
      "text/plain": [
       "       prenom  age       pays\n",
       "0        Hugo   18     France\n",
       "1      Pierre   25   Belgique\n",
       "2       Anais   20     Italie\n",
       "3  Christophe   21  Allemagne\n",
       "4      Samira   22     France\n",
       "5     Sabrina   24     Italie"
      ]
     },
     "execution_count": 10,
     "metadata": {},
     "output_type": "execute_result"
    }
   ],
   "source": [
    "# définition du schéma à valider\n",
    "schema = pa.DataFrameSchema({\n",
    "    \"age\": pa.Column(int, [pa.Check.le(25),\n",
    "                           pa.Check(lambda age: min(age) >= 18),\n",
    "                           pa.Check(lambda age: age >= 18)\n",
    "                          ]),\n",
    "    \"pays\": pa.Column(str, pa.Check.isin([\"France\", \"Allemagne\", \"Italie\", \"Belgique\"])),\n",
    "})\n",
    "# validation du schéma sur le data\n",
    "schema.validate(df, lazy=True)\n"
   ]
  },
  {
   "cell_type": "markdown",
   "metadata": {},
   "source": [
    "# Utilisation des classes pour la validation des dataframes"
   ]
  },
  {
   "cell_type": "code",
   "execution_count": 11,
   "metadata": {
    "ExecuteTime": {
     "end_time": "2022-04-10T18:03:34.308930Z",
     "start_time": "2022-04-10T18:03:34.295863Z"
    }
   },
   "outputs": [],
   "source": [
    "from pandera.typing import Series\n",
    "\n",
    "class Schema(pa.SchemaModel):\n",
    "    pays: Series[str] = pa.Field(isin=[\"France\", \"Allemagne\", \"Italie\", \"Belgique\"])\n",
    "    age: Series[int] = pa.Field(le=25)\n",
    "    \n",
    "    @pa.check(\"age\")\n",
    "    def price_sum_lt_20(cls, age: Series[int]) -> Series[bool]:\n",
    "        return max(age) <= 25"
   ]
  },
  {
   "cell_type": "code",
   "execution_count": 12,
   "metadata": {
    "ExecuteTime": {
     "end_time": "2022-04-10T18:03:34.335518Z",
     "start_time": "2022-04-10T18:03:34.311826Z"
    }
   },
   "outputs": [
    {
     "data": {
      "text/html": [
       "<div>\n",
       "<style scoped>\n",
       "    .dataframe tbody tr th:only-of-type {\n",
       "        vertical-align: middle;\n",
       "    }\n",
       "\n",
       "    .dataframe tbody tr th {\n",
       "        vertical-align: top;\n",
       "    }\n",
       "\n",
       "    .dataframe thead th {\n",
       "        text-align: right;\n",
       "    }\n",
       "</style>\n",
       "<table border=\"1\" class=\"dataframe\">\n",
       "  <thead>\n",
       "    <tr style=\"text-align: right;\">\n",
       "      <th></th>\n",
       "      <th>prenom</th>\n",
       "      <th>age</th>\n",
       "      <th>pays</th>\n",
       "    </tr>\n",
       "  </thead>\n",
       "  <tbody>\n",
       "    <tr>\n",
       "      <th>0</th>\n",
       "      <td>Hugo</td>\n",
       "      <td>18</td>\n",
       "      <td>France</td>\n",
       "    </tr>\n",
       "    <tr>\n",
       "      <th>1</th>\n",
       "      <td>Pierre</td>\n",
       "      <td>25</td>\n",
       "      <td>Belgique</td>\n",
       "    </tr>\n",
       "    <tr>\n",
       "      <th>2</th>\n",
       "      <td>Anais</td>\n",
       "      <td>20</td>\n",
       "      <td>Italie</td>\n",
       "    </tr>\n",
       "    <tr>\n",
       "      <th>3</th>\n",
       "      <td>Christophe</td>\n",
       "      <td>21</td>\n",
       "      <td>Allemagne</td>\n",
       "    </tr>\n",
       "    <tr>\n",
       "      <th>4</th>\n",
       "      <td>Samira</td>\n",
       "      <td>22</td>\n",
       "      <td>France</td>\n",
       "    </tr>\n",
       "    <tr>\n",
       "      <th>5</th>\n",
       "      <td>Sabrina</td>\n",
       "      <td>24</td>\n",
       "      <td>Italie</td>\n",
       "    </tr>\n",
       "  </tbody>\n",
       "</table>\n",
       "</div>"
      ],
      "text/plain": [
       "       prenom  age       pays\n",
       "0        Hugo   18     France\n",
       "1      Pierre   25   Belgique\n",
       "2       Anais   20     Italie\n",
       "3  Christophe   21  Allemagne\n",
       "4      Samira   22     France\n",
       "5     Sabrina   24     Italie"
      ]
     },
     "execution_count": 12,
     "metadata": {},
     "output_type": "execute_result"
    }
   ],
   "source": [
    "Schema.validate(df)"
   ]
  },
  {
   "cell_type": "markdown",
   "metadata": {},
   "source": [
    "# Valider les inputs de fonctions avec leurs exécutions "
   ]
  },
  {
   "cell_type": "markdown",
   "metadata": {},
   "source": [
    "## Valider l'input"
   ]
  },
  {
   "cell_type": "code",
   "execution_count": 13,
   "metadata": {
    "ExecuteTime": {
     "end_time": "2022-04-10T18:03:34.374623Z",
     "start_time": "2022-04-10T18:03:34.338765Z"
    }
   },
   "outputs": [],
   "source": [
    "from pandera import check_input\n",
    "\n",
    "@check_input(schema)\n",
    "def get_total_price(df: pd.DataFrame):\n",
    "    return df.age.min()"
   ]
  },
  {
   "cell_type": "code",
   "execution_count": 14,
   "metadata": {
    "ExecuteTime": {
     "end_time": "2022-04-10T18:03:34.390660Z",
     "start_time": "2022-04-10T18:03:34.376513Z"
    }
   },
   "outputs": [
    {
     "data": {
      "text/plain": [
       "18"
      ]
     },
     "execution_count": 14,
     "metadata": {},
     "output_type": "execute_result"
    }
   ],
   "source": [
    "get_total_price(df)"
   ]
  },
  {
   "cell_type": "markdown",
   "metadata": {},
   "source": [
    "## Valider l'ouput"
   ]
  },
  {
   "cell_type": "code",
   "execution_count": 15,
   "metadata": {
    "ExecuteTime": {
     "end_time": "2022-04-10T18:03:34.409374Z",
     "start_time": "2022-04-10T18:03:34.392175Z"
    }
   },
   "outputs": [],
   "source": [
    "# définition du schéma à valider\n",
    "output_schema = pa.DataFrameSchema({\n",
    "    \"age\": pa.Column(int, [pa.Check.le(25),\n",
    "                           pa.Check(lambda age: min(age) >= 18),\n",
    "                           pa.Check(lambda age: age >= 18)\n",
    "                          ]),\n",
    "})"
   ]
  },
  {
   "cell_type": "code",
   "execution_count": 16,
   "metadata": {
    "ExecuteTime": {
     "end_time": "2022-04-10T18:03:34.424458Z",
     "start_time": "2022-04-10T18:03:34.411180Z"
    }
   },
   "outputs": [],
   "source": [
    "# dataframe à concatener avec df\n",
    "dfbis = pd.DataFrame({\n",
    "    'prenom': [\"Carla\", \"Sintia\", \"Antoine\", \"Mohamed\"],\n",
    "    'age' : [20, 21, 22, 24],\n",
    "    'pays' : [\"France\", \"Belgique\", \"Italie\", \"Allemagne\"]\n",
    "})"
   ]
  },
  {
   "cell_type": "code",
   "execution_count": 17,
   "metadata": {
    "ExecuteTime": {
     "end_time": "2022-04-10T18:03:34.440079Z",
     "start_time": "2022-04-10T18:03:34.428079Z"
    }
   },
   "outputs": [],
   "source": [
    "from pandera import check_output\n",
    "\n",
    "@check_output(output_schema)\n",
    "def concat_df(df: pd.DataFrame, dfbis: pd.DataFrame):\n",
    "    df_global = pd.concat([df, dfbis])\n",
    "    return df_global\n",
    "\n",
    "# application de la fonction\n",
    "df_global = concat_df(df, dfbis)"
   ]
  },
  {
   "cell_type": "markdown",
   "metadata": {},
   "source": [
    "## Valider l'input et l'output"
   ]
  },
  {
   "cell_type": "code",
   "execution_count": 18,
   "metadata": {
    "ExecuteTime": {
     "end_time": "2022-04-10T18:03:34.456074Z",
     "start_time": "2022-04-10T18:03:34.443041Z"
    }
   },
   "outputs": [],
   "source": [
    "from pandera import check_io\n",
    "@check_io(df=schema, dfbis=schema, out=output_schema)\n",
    "def combine_fruits(df: pd.DataFrame, dfbis: pd.DataFrame):\n",
    "    df_global = pd.concat([df, dfbis])\n",
    "    return df_global\n",
    "\n",
    "# application\n",
    "df_global = concat_df(df, dfbis)"
   ]
  },
  {
   "cell_type": "markdown",
   "metadata": {},
   "source": [
    "# Doublons et valeurs manquantes\n",
    "Par défaut :\n",
    "- les valeurs manquantes ne sont pas acceptées (retournent une erreur)\n",
    "- les doublons sont acceptés\n",
    "\n",
    "On peut changer ces spécfications"
   ]
  },
  {
   "cell_type": "code",
   "execution_count": 19,
   "metadata": {
    "ExecuteTime": {
     "end_time": "2022-04-10T18:03:34.471339Z",
     "start_time": "2022-04-10T18:03:34.458001Z"
    }
   },
   "outputs": [],
   "source": [
    "# définition du schéma à valider\n",
    "null_duplicate_schema = pa.DataFrameSchema({\n",
    "    \"age\": pa.Column(int, \n",
    "                     [pa.Check.le(25),\n",
    "                      pa.Check(lambda age: min(age) >= 18),\n",
    "                      pa.Check(lambda age: age >= 18)],\n",
    "                    nullable=True, unique=True\n",
    "                    ),\n",
    "})"
   ]
  },
  {
   "cell_type": "code",
   "execution_count": 20,
   "metadata": {
    "ExecuteTime": {
     "end_time": "2022-04-10T18:03:34.502878Z",
     "start_time": "2022-04-10T18:03:34.472957Z"
    }
   },
   "outputs": [
    {
     "data": {
      "text/html": [
       "<div>\n",
       "<style scoped>\n",
       "    .dataframe tbody tr th:only-of-type {\n",
       "        vertical-align: middle;\n",
       "    }\n",
       "\n",
       "    .dataframe tbody tr th {\n",
       "        vertical-align: top;\n",
       "    }\n",
       "\n",
       "    .dataframe thead th {\n",
       "        text-align: right;\n",
       "    }\n",
       "</style>\n",
       "<table border=\"1\" class=\"dataframe\">\n",
       "  <thead>\n",
       "    <tr style=\"text-align: right;\">\n",
       "      <th></th>\n",
       "      <th>prenom</th>\n",
       "      <th>age</th>\n",
       "      <th>pays</th>\n",
       "    </tr>\n",
       "  </thead>\n",
       "  <tbody>\n",
       "    <tr>\n",
       "      <th>0</th>\n",
       "      <td>Hugo</td>\n",
       "      <td>18</td>\n",
       "      <td>France</td>\n",
       "    </tr>\n",
       "    <tr>\n",
       "      <th>1</th>\n",
       "      <td>Pierre</td>\n",
       "      <td>25</td>\n",
       "      <td>Belgique</td>\n",
       "    </tr>\n",
       "    <tr>\n",
       "      <th>2</th>\n",
       "      <td>Anais</td>\n",
       "      <td>20</td>\n",
       "      <td>Italie</td>\n",
       "    </tr>\n",
       "    <tr>\n",
       "      <th>3</th>\n",
       "      <td>Christophe</td>\n",
       "      <td>21</td>\n",
       "      <td>Allemagne</td>\n",
       "    </tr>\n",
       "    <tr>\n",
       "      <th>4</th>\n",
       "      <td>Samira</td>\n",
       "      <td>22</td>\n",
       "      <td>France</td>\n",
       "    </tr>\n",
       "    <tr>\n",
       "      <th>5</th>\n",
       "      <td>Sabrina</td>\n",
       "      <td>24</td>\n",
       "      <td>Italie</td>\n",
       "    </tr>\n",
       "  </tbody>\n",
       "</table>\n",
       "</div>"
      ],
      "text/plain": [
       "       prenom  age       pays\n",
       "0        Hugo   18     France\n",
       "1      Pierre   25   Belgique\n",
       "2       Anais   20     Italie\n",
       "3  Christophe   21  Allemagne\n",
       "4      Samira   22     France\n",
       "5     Sabrina   24     Italie"
      ]
     },
     "execution_count": 20,
     "metadata": {},
     "output_type": "execute_result"
    }
   ],
   "source": [
    "# schéma acceptant les doublons, \n",
    "schema.validate(df)"
   ]
  },
  {
   "cell_type": "code",
   "execution_count": 21,
   "metadata": {
    "ExecuteTime": {
     "end_time": "2022-04-10T18:03:34.518155Z",
     "start_time": "2022-04-10T18:03:34.507003Z"
    }
   },
   "outputs": [
    {
     "name": "stdout",
     "output_type": "stream",
     "text": [
      "series 'age' contains duplicate values:\n",
      "0    20\n",
      "1    21\n",
      "2    22\n",
      "3    24\n",
      "Name: age, dtype: int64\n"
     ]
    }
   ],
   "source": [
    "# schéma refusant les doublons\n",
    "try:\n",
    "    null_duplicate_schema.validate(df_global)\n",
    "except Exception as e:\n",
    "    print(str(e))"
   ]
  },
  {
   "cell_type": "code",
   "execution_count": 22,
   "metadata": {
    "ExecuteTime": {
     "end_time": "2022-04-10T18:03:34.596904Z",
     "start_time": "2022-04-10T18:03:34.522013Z"
    }
   },
   "outputs": [],
   "source": [
    "?pa.Column"
   ]
  },
  {
   "cell_type": "markdown",
   "metadata": {},
   "source": [
    "# Sauvegarder le schéma sur fichier YAML"
   ]
  },
  {
   "cell_type": "code",
   "execution_count": 23,
   "metadata": {
    "ExecuteTime": {
     "end_time": "2022-04-10T18:03:35.863946Z",
     "start_time": "2022-04-10T18:03:34.598812Z"
    }
   },
   "outputs": [
    {
     "name": "stderr",
     "output_type": "stream",
     "text": [
      "C:\\Users\\skajie\\anaconda3\\lib\\site-packages\\pandera\\schema_statistics.py:145: UserWarning: Only registered checks may be serialized to statistics. Did you forget to register it with the extension API? Check `<lambda>` will be skipped.\n",
      "  warnings.warn(\n"
     ]
    },
    {
     "data": {
      "text/plain": [
       "478"
      ]
     },
     "execution_count": 23,
     "metadata": {},
     "output_type": "execute_result"
    }
   ],
   "source": [
    "from pathlib import Path\n",
    "\n",
    "# YAML object\n",
    "yaml_schema = schema.to_yaml()\n",
    "\n",
    "# Save\n",
    "file = Path(\"schema.yml\")\n",
    "file.touch()\n",
    "file.write_text(yaml_schema)"
   ]
  }
 ],
 "metadata": {
  "kernelspec": {
   "display_name": "Python 3 (ipykernel)",
   "language": "python",
   "name": "python3"
  },
  "language_info": {
   "codemirror_mode": {
    "name": "ipython",
    "version": 3
   },
   "file_extension": ".py",
   "mimetype": "text/x-python",
   "name": "python",
   "nbconvert_exporter": "python",
   "pygments_lexer": "ipython3",
   "version": "3.9.7"
  },
  "toc": {
   "base_numbering": 1,
   "nav_menu": {},
   "number_sections": true,
   "sideBar": true,
   "skip_h1_title": false,
   "title_cell": "Table of Contents",
   "title_sidebar": "Contents",
   "toc_cell": false,
   "toc_position": {},
   "toc_section_display": true,
   "toc_window_display": false
  },
  "varInspector": {
   "cols": {
    "lenName": 16,
    "lenType": 16,
    "lenVar": 40
   },
   "kernels_config": {
    "python": {
     "delete_cmd_postfix": "",
     "delete_cmd_prefix": "del ",
     "library": "var_list.py",
     "varRefreshCmd": "print(var_dic_list())"
    },
    "r": {
     "delete_cmd_postfix": ") ",
     "delete_cmd_prefix": "rm(",
     "library": "var_list.r",
     "varRefreshCmd": "cat(var_dic_list()) "
    }
   },
   "types_to_exclude": [
    "module",
    "function",
    "builtin_function_or_method",
    "instance",
    "_Feature"
   ],
   "window_display": false
  }
 },
 "nbformat": 4,
 "nbformat_minor": 4
}
