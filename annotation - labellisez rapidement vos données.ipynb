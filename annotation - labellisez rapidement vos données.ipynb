{
 "cells": [
  {
   "cell_type": "markdown",
   "id": "e25a1f1f",
   "metadata": {},
   "source": [
    "# Annotation"
   ]
  },
  {
   "cell_type": "markdown",
   "id": "d609efb5",
   "metadata": {},
   "source": [
    "## 1- présentation du package pigeon"
   ]
  },
  {
   "cell_type": "markdown",
   "id": "115853e5",
   "metadata": {},
   "source": [
    "Pigeon est un widget simple qui vous permet d'annoter rapidement un ensemble de données d'exemples non étiquetés dans votre bloc-notes Jupyter.\n",
    "\n",
    "Pigeon prend actuellement en charge les annotations pour les tâches de classification (ensemble d'étiquettes), les tâches de régression (int/float range) ou les tâches de sous-titrage (texte de longueur variable). Tout ce qui peut être affiché sur Jupyter (texte, images, audio, graphiques, etc.) peut être affiché par pigeon en fournissant l'argument approprié."
   ]
  },
  {
   "cell_type": "code",
   "execution_count": 44,
   "id": "4558965b",
   "metadata": {
    "ExecuteTime": {
     "end_time": "2022-03-27T18:16:45.234122Z",
     "start_time": "2022-03-27T18:16:45.229271Z"
    }
   },
   "outputs": [],
   "source": [
    "## installation du package pigeon\n",
    "#!pip install pigeon-jupyter\n",
    "#!pip install google_play_scraper\n",
    "from pigeon import annotate"
   ]
  },
  {
   "cell_type": "code",
   "execution_count": 45,
   "id": "acde88b1",
   "metadata": {
    "ExecuteTime": {
     "end_time": "2022-03-27T18:16:46.227337Z",
     "start_time": "2022-03-27T18:16:46.221475Z"
    }
   },
   "outputs": [],
   "source": [
    "## installation des packages\n",
    "import pandas as pd\n",
    "import logging\n",
    "from google_play_scraper import Sort, reviews_all"
   ]
  },
  {
   "cell_type": "code",
   "execution_count": 46,
   "id": "a4f43f97",
   "metadata": {
    "ExecuteTime": {
     "end_time": "2022-03-27T18:16:50.668895Z",
     "start_time": "2022-03-27T18:16:50.664014Z"
    }
   },
   "outputs": [],
   "source": [
    "pd.options.mode.chained_assignment =None\n",
    "pd.set_option('display.max_rows',4000)\n",
    "pd.set_option('display.max_columns',None)"
   ]
  },
  {
   "cell_type": "markdown",
   "id": "dfc9eabb",
   "metadata": {},
   "source": [
    "## 2- Jeu de données"
   ]
  },
  {
   "cell_type": "markdown",
   "id": "6266ba4c",
   "metadata": {},
   "source": [
    "Le jeu de données porte sur les avis des clients de MTN"
   ]
  },
  {
   "cell_type": "code",
   "execution_count": 47,
   "id": "35b3e8ad",
   "metadata": {
    "ExecuteTime": {
     "end_time": "2022-03-27T18:17:09.287125Z",
     "start_time": "2022-03-27T18:17:09.280603Z"
    }
   },
   "outputs": [],
   "source": [
    "# scraping des jeux de données\n",
    "def avis_app_(url) -> pd.DataFrame:\n",
    "    \"\"\"\n",
    "    scrappe les avis laissés \n",
    "    sur le site de cette url\n",
    "    \"\"\"\n",
    "    try:\n",
    "        avis = reviews_all(url,\n",
    "                           sleep_milliseconds=0,  # par défaut à 0\n",
    "                           lang='fr',  # par défaut à 'en'\n",
    "                           country='cm',  # par défaut à 'us'\n",
    "                           sort=Sort.MOST_RELEVANT,  # par défaut sur Sort.MOST_RELEVANT\n",
    "                           filter_score_with=None  # par défaut sur Aucun (signifie tous les scores)\n",
    "                           )\n",
    "        data_avis_app_ = pd.DataFrame.from_records(avis)\n",
    "        return data_avis_app_\n",
    "    except Exception as e:\n",
    "        logging.error(\"Scrapping avis_app_ ERROR:  : {}\".format(e))\n",
    "        raise e"
   ]
  },
  {
   "cell_type": "code",
   "execution_count": 48,
   "id": "d6f3f832",
   "metadata": {
    "ExecuteTime": {
     "end_time": "2022-03-27T18:17:19.294972Z",
     "start_time": "2022-03-27T18:17:11.005008Z"
    }
   },
   "outputs": [
    {
     "data": {
      "text/html": [
       "<div>\n",
       "<style scoped>\n",
       "    .dataframe tbody tr th:only-of-type {\n",
       "        vertical-align: middle;\n",
       "    }\n",
       "\n",
       "    .dataframe tbody tr th {\n",
       "        vertical-align: top;\n",
       "    }\n",
       "\n",
       "    .dataframe thead th {\n",
       "        text-align: right;\n",
       "    }\n",
       "</style>\n",
       "<table border=\"1\" class=\"dataframe\">\n",
       "  <thead>\n",
       "    <tr style=\"text-align: right;\">\n",
       "      <th></th>\n",
       "      <th>reviewId</th>\n",
       "      <th>userName</th>\n",
       "      <th>userImage</th>\n",
       "      <th>content</th>\n",
       "      <th>score</th>\n",
       "      <th>thumbsUpCount</th>\n",
       "      <th>reviewCreatedVersion</th>\n",
       "      <th>at</th>\n",
       "      <th>replyContent</th>\n",
       "      <th>repliedAt</th>\n",
       "    </tr>\n",
       "  </thead>\n",
       "  <tbody>\n",
       "    <tr>\n",
       "      <th>0</th>\n",
       "      <td>gp:AOqpTOHkLT8cSu4Z9ILCg7Di-xP_baWiz7fweJhSLvw...</td>\n",
       "      <td>koyine ka</td>\n",
       "      <td>https://play-lh.googleusercontent.com/a-/AOh14...</td>\n",
       "      <td>C'est une honte pour MTN, la quasi-totalité de...</td>\n",
       "      <td>1</td>\n",
       "      <td>43</td>\n",
       "      <td>3.0.4</td>\n",
       "      <td>2022-02-28 20:01:58</td>\n",
       "      <td>None</td>\n",
       "      <td>None</td>\n",
       "    </tr>\n",
       "    <tr>\n",
       "      <th>1</th>\n",
       "      <td>gp:AOqpTOFIN9_J9F0dg-f9uNd_sW08AUxTxfr27XXNSOL...</td>\n",
       "      <td>Cléopas KOTIN</td>\n",
       "      <td>https://play-lh.googleusercontent.com/a-/AOh14...</td>\n",
       "      <td>Impossible de me connecter pour faire mes tran...</td>\n",
       "      <td>1</td>\n",
       "      <td>24</td>\n",
       "      <td>3.0.4</td>\n",
       "      <td>2022-03-08 06:22:04</td>\n",
       "      <td>None</td>\n",
       "      <td>None</td>\n",
       "    </tr>\n",
       "  </tbody>\n",
       "</table>\n",
       "</div>"
      ],
      "text/plain": [
       "                                            reviewId       userName  \\\n",
       "0  gp:AOqpTOHkLT8cSu4Z9ILCg7Di-xP_baWiz7fweJhSLvw...      koyine ka   \n",
       "1  gp:AOqpTOFIN9_J9F0dg-f9uNd_sW08AUxTxfr27XXNSOL...  Cléopas KOTIN   \n",
       "\n",
       "                                           userImage  \\\n",
       "0  https://play-lh.googleusercontent.com/a-/AOh14...   \n",
       "1  https://play-lh.googleusercontent.com/a-/AOh14...   \n",
       "\n",
       "                                             content  score  thumbsUpCount  \\\n",
       "0  C'est une honte pour MTN, la quasi-totalité de...      1             43   \n",
       "1  Impossible de me connecter pour faire mes tran...      1             24   \n",
       "\n",
       "  reviewCreatedVersion                  at replyContent repliedAt  \n",
       "0                3.0.4 2022-02-28 20:01:58         None      None  \n",
       "1                3.0.4 2022-03-08 06:22:04         None      None  "
      ]
     },
     "execution_count": 48,
     "metadata": {},
     "output_type": "execute_result"
    }
   ],
   "source": [
    "URL_MTN = 'com.mtn1app'\n",
    "data_avis_mtn = avis_app_(URL_MTN)\n",
    "data_avis_mtn.head(2)"
   ]
  },
  {
   "cell_type": "markdown",
   "id": "a6675956",
   "metadata": {},
   "source": [
    "## Présention de quelques avis"
   ]
  },
  {
   "cell_type": "code",
   "execution_count": 49,
   "id": "eced97b7",
   "metadata": {
    "ExecuteTime": {
     "end_time": "2022-03-27T18:17:39.062214Z",
     "start_time": "2022-03-27T18:17:39.057332Z"
    }
   },
   "outputs": [
    {
     "data": {
      "text/plain": [
       "\"C'est une honte pour MTN, la quasi-totalité des APPLIS & SERVICES MTN ne fonctionne plus, si vous ne pouvez plus vous adaptés alors vendez l'entreprise à des gens qui ont la capacité de fournir a ces clients des services qui fonctionne\""
      ]
     },
     "execution_count": 49,
     "metadata": {},
     "output_type": "execute_result"
    }
   ],
   "source": [
    "data_avis_mtn[\"content\"][0]"
   ]
  },
  {
   "cell_type": "code",
   "execution_count": 50,
   "id": "bb3192f1",
   "metadata": {
    "ExecuteTime": {
     "end_time": "2022-03-27T18:17:43.062570Z",
     "start_time": "2022-03-27T18:17:43.056713Z"
    }
   },
   "outputs": [
    {
     "data": {
      "text/plain": [
       "\"Impossible de me connecter pour faire mes transactions Momo normalement. Redirigé sur MTN Momo, tout aussi Nul. *Décommande l'appli\""
      ]
     },
     "execution_count": 50,
     "metadata": {},
     "output_type": "execute_result"
    }
   ],
   "source": [
    "data_avis_mtn[\"content\"][1]"
   ]
  },
  {
   "cell_type": "code",
   "execution_count": 51,
   "id": "962f6d62",
   "metadata": {
    "ExecuteTime": {
     "end_time": "2022-03-27T18:17:44.645394Z",
     "start_time": "2022-03-27T18:17:44.638564Z"
    }
   },
   "outputs": [
    {
     "data": {
      "text/plain": [
       "'Je le désinstalle en même temps. Très nul'"
      ]
     },
     "execution_count": 51,
     "metadata": {},
     "output_type": "execute_result"
    }
   ],
   "source": [
    "data_avis_mtn[\"content\"][2]"
   ]
  },
  {
   "cell_type": "markdown",
   "id": "97f16799",
   "metadata": {},
   "source": [
    "## Annotation des avis"
   ]
  },
  {
   "cell_type": "code",
   "execution_count": 52,
   "id": "0f5603af",
   "metadata": {
    "ExecuteTime": {
     "end_time": "2022-03-27T18:18:11.566357Z",
     "start_time": "2022-03-27T18:18:11.499001Z"
    }
   },
   "outputs": [
    {
     "data": {
      "application/vnd.jupyter.widget-view+json": {
       "model_id": "3b227488cddb4449a5b244a1164c5765",
       "version_major": 2,
       "version_minor": 0
      },
      "text/plain": [
       "HTML(value='0 examples annotated, 3861 examples left')"
      ]
     },
     "metadata": {},
     "output_type": "display_data"
    },
    {
     "data": {
      "application/vnd.jupyter.widget-view+json": {
       "model_id": "7da65f4558c543e3a0ae66bb929b9d49",
       "version_major": 2,
       "version_minor": 0
      },
      "text/plain": [
       "HBox(children=(Button(description='positive', style=ButtonStyle()), Button(description='negative', style=Butto…"
      ]
     },
     "metadata": {},
     "output_type": "display_data"
    },
    {
     "data": {
      "application/vnd.jupyter.widget-view+json": {
       "model_id": "e4fa2037092c4a9db8c5bc54979365e5",
       "version_major": 2,
       "version_minor": 0
      },
      "text/plain": [
       "Output()"
      ]
     },
     "metadata": {},
     "output_type": "display_data"
    }
   ],
   "source": [
    "annotations_avis = annotate(\n",
    "  examples = list(data_avis_mtn.content),\n",
    "  options=['positive', 'negative', 'neutre']\n",
    ")"
   ]
  },
  {
   "cell_type": "code",
   "execution_count": 53,
   "id": "ea5b5cba",
   "metadata": {
    "ExecuteTime": {
     "end_time": "2022-03-27T18:19:16.706432Z",
     "start_time": "2022-03-27T18:19:16.699598Z"
    }
   },
   "outputs": [
    {
     "data": {
      "text/plain": [
       "[(\"C'est une honte pour MTN, la quasi-totalité des APPLIS & SERVICES MTN ne fonctionne plus, si vous ne pouvez plus vous adaptés alors vendez l'entreprise à des gens qui ont la capacité de fournir a ces clients des services qui fonctionne\",\n",
       "  'negative'),\n",
       " (\"Impossible de me connecter pour faire mes transactions Momo normalement. Redirigé sur MTN Momo, tout aussi Nul. *Décommande l'appli\",\n",
       "  'negative'),\n",
       " ('Je le désinstalle en même temps. Très nul', 'negative'),\n",
       " (\"L'application est assez top, mais ne peut être utilisée que si on possède un forfait internet ce qui n'est pas cool vu que ces services sont supposés être gratuits. Chez le concurrent il suffit juste d'activer les données mobile pour y avoir accès pas besoin de forfait internet. Merci de revoir cela encore please 🙏\",\n",
       "  'positive'),\n",
       " (\"Pratique l'application, nous louons vos efforts. Mais elle reste à améliorer. Par exemple il n'est pas possible de balancer d'un numéro à un autre pour ceux qui ont un portable double sim (2 sim MTN). Prière revoir comment permette de balancer entre sim. Merci.\",\n",
       "  'neutre'),\n",
       " (\"Avant j'utilisais bien cet appli. Aujourd'hui quand j'installe on me dit qu'une version à jour de l'appli est disponible et lorsque je souhaite faire la mise à jour. Impossible car la nouvelle version est pas disponible. Sans compter que l'appli sur mon téléphone ne s'affiche plus correctement.\",\n",
       "  'positive'),\n",
       " (\"L'application est un bon début et reste perfectible. Le relevé de transaction pourrait être disponible sur la période que l'on souhaite et doit pouvoir être téléchargé au format pdf. Mais au lieu de ça, on voit juste des opérations de débit et de crédit entre des numéros (les identités ne s'affichent pas), de plus les relevés ne retracent pas les transactions à l'international.\",\n",
       "  'neutre'),\n",
       " (\"Bonsoir MTN J'ai passé une commande d'un routeur depuis ce midi et je n'ai toujours pas encore reçu le routeur. Les frais liées à cette commande m'ont pourtant été prélevées. Je n'ai pas non été contacté sur les raisons de cette non livraison et le délai d'attente supplémentaires. Ceci est, vous le conviendrez avec moi, faire preuve de manque de professionnalisme J'espère être livrée à temps demain . Merci\",\n",
       "  'negative'),\n",
       " (\"J'utilise l'application chaque et je suis satisfait mais depuis hier j'ai constaté que pour faire une opération dans mobile money elle me renvoie dans play store pour télécharger une autre application MTN Momo qui ne fonctionne pas. Cette mise à jour a dégradé l'application. Elle n'a plus sa valeur\",\n",
       "  'positive'),\n",
       " (\"Une très belle application. Mais assez d'insuffisance pour des raisons ci-après : Quand nous consultons le mini relevé, tous les numéros ne s'affichent pas. Surtout les opérations entre abonné et marchand, les numéros ne s'affichent pas. Après paiement, le numéro du receveur ne s'affiche pas, Dépôt entre abonnés aussi\",\n",
       "  'neutre'),\n",
       " (\"Vraiment cette application ma causée d'énormes problèmes : Une fois planifier la transaction d'argent, je n'ai plus la possibilité d'annuler et jusqu'aujourd'hui ca continue d'envoyer l'argent sans mon autorisation.\",\n",
       "  'negative')]"
      ]
     },
     "execution_count": 53,
     "metadata": {},
     "output_type": "execute_result"
    }
   ],
   "source": [
    "annotations_avis"
   ]
  },
  {
   "cell_type": "code",
   "execution_count": 54,
   "id": "b1dfd4a3",
   "metadata": {
    "ExecuteTime": {
     "end_time": "2022-03-27T18:19:37.811246Z",
     "start_time": "2022-03-27T18:19:37.798561Z"
    }
   },
   "outputs": [
    {
     "data": {
      "text/html": [
       "<div>\n",
       "<style scoped>\n",
       "    .dataframe tbody tr th:only-of-type {\n",
       "        vertical-align: middle;\n",
       "    }\n",
       "\n",
       "    .dataframe tbody tr th {\n",
       "        vertical-align: top;\n",
       "    }\n",
       "\n",
       "    .dataframe thead th {\n",
       "        text-align: right;\n",
       "    }\n",
       "</style>\n",
       "<table border=\"1\" class=\"dataframe\">\n",
       "  <thead>\n",
       "    <tr style=\"text-align: right;\">\n",
       "      <th></th>\n",
       "      <th>content</th>\n",
       "      <th>annotation</th>\n",
       "    </tr>\n",
       "  </thead>\n",
       "  <tbody>\n",
       "    <tr>\n",
       "      <th>0</th>\n",
       "      <td>C'est une honte pour MTN, la quasi-totalité de...</td>\n",
       "      <td>negative</td>\n",
       "    </tr>\n",
       "    <tr>\n",
       "      <th>1</th>\n",
       "      <td>Impossible de me connecter pour faire mes tran...</td>\n",
       "      <td>negative</td>\n",
       "    </tr>\n",
       "    <tr>\n",
       "      <th>2</th>\n",
       "      <td>Je le désinstalle en même temps. Très nul</td>\n",
       "      <td>negative</td>\n",
       "    </tr>\n",
       "    <tr>\n",
       "      <th>3</th>\n",
       "      <td>L'application est assez top, mais ne peut être...</td>\n",
       "      <td>positive</td>\n",
       "    </tr>\n",
       "    <tr>\n",
       "      <th>4</th>\n",
       "      <td>Pratique l'application, nous louons vos effort...</td>\n",
       "      <td>neutre</td>\n",
       "    </tr>\n",
       "  </tbody>\n",
       "</table>\n",
       "</div>"
      ],
      "text/plain": [
       "                                             content annotation\n",
       "0  C'est une honte pour MTN, la quasi-totalité de...   negative\n",
       "1  Impossible de me connecter pour faire mes tran...   negative\n",
       "2          Je le désinstalle en même temps. Très nul   negative\n",
       "3  L'application est assez top, mais ne peut être...   positive\n",
       "4  Pratique l'application, nous louons vos effort...     neutre"
      ]
     },
     "execution_count": 54,
     "metadata": {},
     "output_type": "execute_result"
    }
   ],
   "source": [
    "df = pd.DataFrame(annotations_avis, columns = [\"content\", \"annotation\"])\n",
    "df.head()"
   ]
  },
  {
   "cell_type": "code",
   "execution_count": 55,
   "id": "fe41a088",
   "metadata": {
    "ExecuteTime": {
     "end_time": "2022-03-27T18:19:44.812768Z",
     "start_time": "2022-03-27T18:19:44.801046Z"
    }
   },
   "outputs": [
    {
     "data": {
      "text/html": [
       "<div>\n",
       "<style scoped>\n",
       "    .dataframe tbody tr th:only-of-type {\n",
       "        vertical-align: middle;\n",
       "    }\n",
       "\n",
       "    .dataframe tbody tr th {\n",
       "        vertical-align: top;\n",
       "    }\n",
       "\n",
       "    .dataframe thead th {\n",
       "        text-align: right;\n",
       "    }\n",
       "</style>\n",
       "<table border=\"1\" class=\"dataframe\">\n",
       "  <thead>\n",
       "    <tr style=\"text-align: right;\">\n",
       "      <th></th>\n",
       "      <th>content</th>\n",
       "      <th>annotation</th>\n",
       "    </tr>\n",
       "  </thead>\n",
       "  <tbody>\n",
       "    <tr>\n",
       "      <th>0</th>\n",
       "      <td>C'est une honte pour MTN, la quasi-totalité de...</td>\n",
       "      <td>negative</td>\n",
       "    </tr>\n",
       "    <tr>\n",
       "      <th>1</th>\n",
       "      <td>Impossible de me connecter pour faire mes tran...</td>\n",
       "      <td>negative</td>\n",
       "    </tr>\n",
       "    <tr>\n",
       "      <th>2</th>\n",
       "      <td>Je le désinstalle en même temps. Très nul</td>\n",
       "      <td>negative</td>\n",
       "    </tr>\n",
       "    <tr>\n",
       "      <th>3</th>\n",
       "      <td>L'application est assez top, mais ne peut être...</td>\n",
       "      <td>positive</td>\n",
       "    </tr>\n",
       "    <tr>\n",
       "      <th>4</th>\n",
       "      <td>Pratique l'application, nous louons vos effort...</td>\n",
       "      <td>neutre</td>\n",
       "    </tr>\n",
       "    <tr>\n",
       "      <th>5</th>\n",
       "      <td>Avant j'utilisais bien cet appli. Aujourd'hui ...</td>\n",
       "      <td>positive</td>\n",
       "    </tr>\n",
       "    <tr>\n",
       "      <th>6</th>\n",
       "      <td>L'application est un bon début et reste perfec...</td>\n",
       "      <td>neutre</td>\n",
       "    </tr>\n",
       "    <tr>\n",
       "      <th>7</th>\n",
       "      <td>Bonsoir MTN J'ai passé une commande d'un route...</td>\n",
       "      <td>negative</td>\n",
       "    </tr>\n",
       "    <tr>\n",
       "      <th>8</th>\n",
       "      <td>J'utilise l'application chaque et je suis sati...</td>\n",
       "      <td>positive</td>\n",
       "    </tr>\n",
       "    <tr>\n",
       "      <th>9</th>\n",
       "      <td>Une très belle application. Mais assez d'insuf...</td>\n",
       "      <td>neutre</td>\n",
       "    </tr>\n",
       "    <tr>\n",
       "      <th>10</th>\n",
       "      <td>Vraiment cette application ma causée d'énormes...</td>\n",
       "      <td>negative</td>\n",
       "    </tr>\n",
       "  </tbody>\n",
       "</table>\n",
       "</div>"
      ],
      "text/plain": [
       "                                              content annotation\n",
       "0   C'est une honte pour MTN, la quasi-totalité de...   negative\n",
       "1   Impossible de me connecter pour faire mes tran...   negative\n",
       "2           Je le désinstalle en même temps. Très nul   negative\n",
       "3   L'application est assez top, mais ne peut être...   positive\n",
       "4   Pratique l'application, nous louons vos effort...     neutre\n",
       "5   Avant j'utilisais bien cet appli. Aujourd'hui ...   positive\n",
       "6   L'application est un bon début et reste perfec...     neutre\n",
       "7   Bonsoir MTN J'ai passé une commande d'un route...   negative\n",
       "8   J'utilise l'application chaque et je suis sati...   positive\n",
       "9   Une très belle application. Mais assez d'insuf...     neutre\n",
       "10  Vraiment cette application ma causée d'énormes...   negative"
      ]
     },
     "execution_count": 55,
     "metadata": {},
     "output_type": "execute_result"
    }
   ],
   "source": [
    "df"
   ]
  },
  {
   "cell_type": "markdown",
   "id": "01cba582",
   "metadata": {},
   "source": [
    "## Autres exemples "
   ]
  },
  {
   "cell_type": "code",
   "execution_count": 56,
   "id": "a91f92e9",
   "metadata": {
    "ExecuteTime": {
     "end_time": "2022-03-27T18:20:36.018905Z",
     "start_time": "2022-03-27T18:20:35.962688Z"
    }
   },
   "outputs": [
    {
     "data": {
      "application/vnd.jupyter.widget-view+json": {
       "model_id": "25461f4773aa4262adb2698cabf0069a",
       "version_major": 2,
       "version_minor": 0
      },
      "text/plain": [
       "HTML(value='0 examples annotated, 4 examples left')"
      ]
     },
     "metadata": {},
     "output_type": "display_data"
    },
    {
     "data": {
      "application/vnd.jupyter.widget-view+json": {
       "model_id": "2364c21f39f6414d9114a18ba6be5b02",
       "version_major": 2,
       "version_minor": 0
      },
      "text/plain": [
       "HBox(children=(Button(description='cat', style=ButtonStyle()), Button(description='lion', style=ButtonStyle())…"
      ]
     },
     "metadata": {},
     "output_type": "display_data"
    },
    {
     "data": {
      "application/vnd.jupyter.widget-view+json": {
       "model_id": "fd0d146eb97f41ba8f1091f3636a8e1e",
       "version_major": 2,
       "version_minor": 0
      },
      "text/plain": [
       "Output()"
      ]
     },
     "metadata": {},
     "output_type": "display_data"
    },
    {
     "name": "stdout",
     "output_type": "stream",
     "text": [
      "Annotation done.\n"
     ]
    }
   ],
   "source": [
    "from IPython.display import display, Image\n",
    "annotations = annotate(\n",
    "  ['image1.jpg', 'image2.jpg', \"image3.jpg\"],\n",
    "  options=['cat', 'lion', 'dog'],\n",
    "  display_fn=lambda filename: display(Image(filename))\n",
    ")"
   ]
  },
  {
   "cell_type": "code",
   "execution_count": 57,
   "id": "a3639392",
   "metadata": {
    "ExecuteTime": {
     "end_time": "2022-03-27T18:21:07.550128Z",
     "start_time": "2022-03-27T18:21:07.544262Z"
    }
   },
   "outputs": [
    {
     "data": {
      "text/plain": [
       "[('image1.jpg', 'cat'), ('image2.jpg', 'dog'), ('image3.jpg', 'lion')]"
      ]
     },
     "execution_count": 57,
     "metadata": {},
     "output_type": "execute_result"
    }
   ],
   "source": [
    "annotations"
   ]
  },
  {
   "cell_type": "code",
   "execution_count": 58,
   "id": "ff0f6d2e",
   "metadata": {
    "ExecuteTime": {
     "end_time": "2022-03-27T18:21:18.906562Z",
     "start_time": "2022-03-27T18:21:18.899731Z"
    }
   },
   "outputs": [],
   "source": [
    "?annotate"
   ]
  }
 ],
 "metadata": {
  "kernelspec": {
   "display_name": "Python 3 (ipykernel)",
   "language": "python",
   "name": "python3"
  },
  "language_info": {
   "codemirror_mode": {
    "name": "ipython",
    "version": 3
   },
   "file_extension": ".py",
   "mimetype": "text/x-python",
   "name": "python",
   "nbconvert_exporter": "python",
   "pygments_lexer": "ipython3",
   "version": "3.9.7"
  },
  "toc": {
   "base_numbering": 1,
   "nav_menu": {},
   "number_sections": true,
   "sideBar": true,
   "skip_h1_title": false,
   "title_cell": "Table of Contents",
   "title_sidebar": "Contents",
   "toc_cell": false,
   "toc_position": {},
   "toc_section_display": true,
   "toc_window_display": false
  },
  "varInspector": {
   "cols": {
    "lenName": 16,
    "lenType": 16,
    "lenVar": 40
   },
   "kernels_config": {
    "python": {
     "delete_cmd_postfix": "",
     "delete_cmd_prefix": "del ",
     "library": "var_list.py",
     "varRefreshCmd": "print(var_dic_list())"
    },
    "r": {
     "delete_cmd_postfix": ") ",
     "delete_cmd_prefix": "rm(",
     "library": "var_list.r",
     "varRefreshCmd": "cat(var_dic_list()) "
    }
   },
   "types_to_exclude": [
    "module",
    "function",
    "builtin_function_or_method",
    "instance",
    "_Feature"
   ],
   "window_display": false
  }
 },
 "nbformat": 4,
 "nbformat_minor": 5
}
