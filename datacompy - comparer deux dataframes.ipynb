{
 "cells": [
  {
   "cell_type": "markdown",
   "metadata": {},
   "source": [
    "# Comparer deux dataframes avec `datacompy`"
   ]
  },
  {
   "cell_type": "markdown",
   "metadata": {},
   "source": [
    "**`datacompy`** est un module python qui permet de comparaer deux dataframes. Il prend en entrée deux dataframe et ressort un rapport sur les similitudes et les dissimilarités entre les deux dataframes. \n",
    "\n",
    "Ce modèle peut être utile pour identifier où les mises à jour qui ont été effectués dans les données (ajout/suppression de lignes, update des informations, ajout/supression de colonnes). "
   ]
  },
  {
   "cell_type": "code",
   "execution_count": 2,
   "metadata": {
    "ExecuteTime": {
     "end_time": "2022-05-25T12:17:15.885760Z",
     "start_time": "2022-05-25T12:17:15.867838Z"
    }
   },
   "outputs": [
    {
     "data": {
      "text/html": [
       "<style>.container {width:75% !important; }</style>"
      ],
      "text/plain": [
       "<IPython.core.display.HTML object>"
      ]
     },
     "metadata": {},
     "output_type": "display_data"
    },
    {
     "data": {
      "text/html": [
       "<style type='text/css'>.CodeMirror{font-family: consolas; font-size: 14.4px;</style>"
      ],
      "text/plain": [
       "<IPython.core.display.HTML object>"
      ]
     },
     "metadata": {},
     "output_type": "display_data"
    }
   ],
   "source": [
    "# Settings pour l'affichage du notebook\n",
    "from IPython.display import display, HTML\n",
    "display(HTML(\"<style>.container {width:75% !important; }</style>\"))\n",
    "display(HTML(\"<style type='text/css'>.CodeMirror{font-family: consolas; font-size: 14.4px;</style>\"))"
   ]
  },
  {
   "cell_type": "markdown",
   "metadata": {},
   "source": [
    "## Installation"
   ]
  },
  {
   "cell_type": "code",
   "execution_count": 13,
   "metadata": {
    "ExecuteTime": {
     "end_time": "2022-05-25T12:49:58.038704Z",
     "start_time": "2022-05-25T12:49:58.025417Z"
    }
   },
   "outputs": [],
   "source": [
    "# !pip install datacompy  # Jupyter notebook\n",
    "# pip install datacompy  # console ou conda prompt"
   ]
  },
  {
   "cell_type": "markdown",
   "metadata": {},
   "source": [
    "## Création des jeux de données"
   ]
  },
  {
   "cell_type": "code",
   "execution_count": 65,
   "metadata": {
    "ExecuteTime": {
     "end_time": "2022-05-25T13:40:58.042539Z",
     "start_time": "2022-05-25T13:40:58.036100Z"
    }
   },
   "outputs": [],
   "source": [
    "# packages\n",
    "from io import StringIO\n",
    "import pandas as pd\n",
    "import datacompy\n",
    "import logging"
   ]
  },
  {
   "cell_type": "code",
   "execution_count": 70,
   "metadata": {
    "ExecuteTime": {
     "end_time": "2022-05-25T13:56:33.127742Z",
     "start_time": "2022-05-25T13:56:33.107566Z"
    }
   },
   "outputs": [],
   "source": [
    "logging.basicConfig(format='%(asctime)s %(message)s')"
   ]
  },
  {
   "cell_type": "code",
   "execution_count": 44,
   "metadata": {
    "ExecuteTime": {
     "end_time": "2022-05-25T13:30:55.361790Z",
     "start_time": "2022-05-25T13:30:55.336918Z"
    }
   },
   "outputs": [],
   "source": [
    "# Création des dataframes   \n",
    "data_old = \\\n",
    "\"\"\"\n",
    "client_id; Nom; Prénom; Annee_naissance; Statut; Département;Email\n",
    "1;Lelievre;Florentine;1995;Marié;93;b2o@gmail.com\n",
    "2;Pitard;Alexandro;;Marié;92;b2o@gmail.com\n",
    "3;Marcheix;Wandrille;1999;Divorcé;93;b2o@gmail.com\n",
    "4;Martigny;Stefan;2000;Célibataire;91;b2o@gmail.com\n",
    "5;Assailly;Rosanna;1993;Marié;93;b2o@gmail.com\n",
    "6;Grillon;Antton;1996;Divorcé;93;kkgk@gmail.com\n",
    "7;Duboue;Musa;1990;Divorcé;92;\n",
    "8;Vayssie;Ilyasse;;Divorcé;93;\n",
    "9;Landon;Daoud;1997;Célibataire;95;b2o@gmail.com\n",
    "10;Couder;Idris;1991;Marié;91;b2o@gmail.com\n",
    "\"\"\"\n",
    "   \n",
    "data_new = \\\n",
    "\"\"\"\n",
    "client_id; Nom; Prénom; Annee_naissance; Statut; Département;téléphone\n",
    "1;Lelievre;Florentine;1995;Marié;92;777777777\n",
    "2;Pitard;Alexandro;2000;Marié;92;777777777\n",
    "3;Marcheix;Wandrille;1999;Marié;93;777777777\n",
    "4;Martigny;Stefan;2000;Marié;94;777777777\n",
    "5;Assailly;Rosanna;1993;Divorcé;93;777777777\n",
    "11;Montillet;Deborah;1994;Marié;94;777777777\n",
    "12;Furet;Cheikh;1996;Divorcé;92;777777777\n",
    "13;Faur;Aleksandar;;Célibataire;94;777777777\n",
    "14;Sagne;Camillia;1992;Célibataire;93;777777777\n",
    "\"\"\"\n",
    "   \n",
    "df_old = pd.read_csv(StringIO(data_old), sep=\";\")\n",
    "df_new = pd.read_csv(StringIO(data_new), sep=\";\")\n",
    " "
   ]
  },
  {
   "cell_type": "code",
   "execution_count": 45,
   "metadata": {
    "ExecuteTime": {
     "end_time": "2022-05-25T13:30:55.796712Z",
     "start_time": "2022-05-25T13:30:55.769786Z"
    }
   },
   "outputs": [
    {
     "data": {
      "text/html": [
       "<div>\n",
       "<style scoped>\n",
       "    .dataframe tbody tr th:only-of-type {\n",
       "        vertical-align: middle;\n",
       "    }\n",
       "\n",
       "    .dataframe tbody tr th {\n",
       "        vertical-align: top;\n",
       "    }\n",
       "\n",
       "    .dataframe thead th {\n",
       "        text-align: right;\n",
       "    }\n",
       "</style>\n",
       "<table border=\"1\" class=\"dataframe\">\n",
       "  <thead>\n",
       "    <tr style=\"text-align: right;\">\n",
       "      <th></th>\n",
       "      <th>client_id</th>\n",
       "      <th>Nom</th>\n",
       "      <th>Prénom</th>\n",
       "      <th>Annee_naissance</th>\n",
       "      <th>Statut</th>\n",
       "      <th>Département</th>\n",
       "      <th>email</th>\n",
       "    </tr>\n",
       "  </thead>\n",
       "  <tbody>\n",
       "    <tr>\n",
       "      <th>0</th>\n",
       "      <td>1</td>\n",
       "      <td>Lelievre</td>\n",
       "      <td>Florentine</td>\n",
       "      <td>1995.0</td>\n",
       "      <td>Marié</td>\n",
       "      <td>93</td>\n",
       "      <td>b2o@gmail.com</td>\n",
       "    </tr>\n",
       "    <tr>\n",
       "      <th>1</th>\n",
       "      <td>2</td>\n",
       "      <td>Pitard</td>\n",
       "      <td>Alexandro</td>\n",
       "      <td>NaN</td>\n",
       "      <td>Marié</td>\n",
       "      <td>92</td>\n",
       "      <td>b2o@gmail.com</td>\n",
       "    </tr>\n",
       "    <tr>\n",
       "      <th>2</th>\n",
       "      <td>3</td>\n",
       "      <td>Marcheix</td>\n",
       "      <td>Wandrille</td>\n",
       "      <td>1999.0</td>\n",
       "      <td>Divorcé</td>\n",
       "      <td>93</td>\n",
       "      <td>b2o@gmail.com</td>\n",
       "    </tr>\n",
       "    <tr>\n",
       "      <th>3</th>\n",
       "      <td>4</td>\n",
       "      <td>Martigny</td>\n",
       "      <td>Stefan</td>\n",
       "      <td>2000.0</td>\n",
       "      <td>Célibataire</td>\n",
       "      <td>91</td>\n",
       "      <td>b2o@gmail.com</td>\n",
       "    </tr>\n",
       "    <tr>\n",
       "      <th>4</th>\n",
       "      <td>5</td>\n",
       "      <td>Assailly</td>\n",
       "      <td>Rosanna</td>\n",
       "      <td>1993.0</td>\n",
       "      <td>Marié</td>\n",
       "      <td>93</td>\n",
       "      <td>b2o@gmail.com</td>\n",
       "    </tr>\n",
       "    <tr>\n",
       "      <th>5</th>\n",
       "      <td>6</td>\n",
       "      <td>Grillon</td>\n",
       "      <td>Antton</td>\n",
       "      <td>1996.0</td>\n",
       "      <td>Divorcé</td>\n",
       "      <td>93</td>\n",
       "      <td>kkgk@gmail.com</td>\n",
       "    </tr>\n",
       "    <tr>\n",
       "      <th>6</th>\n",
       "      <td>7</td>\n",
       "      <td>Duboue</td>\n",
       "      <td>Musa</td>\n",
       "      <td>1990.0</td>\n",
       "      <td>Divorcé</td>\n",
       "      <td>92</td>\n",
       "      <td>NaN</td>\n",
       "    </tr>\n",
       "    <tr>\n",
       "      <th>7</th>\n",
       "      <td>8</td>\n",
       "      <td>Vayssie</td>\n",
       "      <td>Ilyasse</td>\n",
       "      <td>NaN</td>\n",
       "      <td>Divorcé</td>\n",
       "      <td>93</td>\n",
       "      <td>NaN</td>\n",
       "    </tr>\n",
       "    <tr>\n",
       "      <th>8</th>\n",
       "      <td>9</td>\n",
       "      <td>Landon</td>\n",
       "      <td>Daoud</td>\n",
       "      <td>1997.0</td>\n",
       "      <td>Célibataire</td>\n",
       "      <td>95</td>\n",
       "      <td>b2o@gmail.com</td>\n",
       "    </tr>\n",
       "    <tr>\n",
       "      <th>9</th>\n",
       "      <td>10</td>\n",
       "      <td>Couder</td>\n",
       "      <td>Idris</td>\n",
       "      <td>1991.0</td>\n",
       "      <td>Marié</td>\n",
       "      <td>91</td>\n",
       "      <td>b2o@gmail.com</td>\n",
       "    </tr>\n",
       "  </tbody>\n",
       "</table>\n",
       "</div>"
      ],
      "text/plain": [
       "   client_id       Nom      Prénom   Annee_naissance       Statut  \\\n",
       "0          1  Lelievre  Florentine            1995.0        Marié   \n",
       "1          2    Pitard   Alexandro               NaN        Marié   \n",
       "2          3  Marcheix   Wandrille            1999.0      Divorcé   \n",
       "3          4  Martigny      Stefan            2000.0  Célibataire   \n",
       "4          5  Assailly     Rosanna            1993.0        Marié   \n",
       "5          6   Grillon      Antton            1996.0      Divorcé   \n",
       "6          7    Duboue        Musa            1990.0      Divorcé   \n",
       "7          8   Vayssie     Ilyasse               NaN      Divorcé   \n",
       "8          9    Landon       Daoud            1997.0  Célibataire   \n",
       "9         10    Couder       Idris            1991.0        Marié   \n",
       "\n",
       "    Département           email  \n",
       "0            93   b2o@gmail.com  \n",
       "1            92   b2o@gmail.com  \n",
       "2            93   b2o@gmail.com  \n",
       "3            91   b2o@gmail.com  \n",
       "4            93   b2o@gmail.com  \n",
       "5            93  kkgk@gmail.com  \n",
       "6            92             NaN  \n",
       "7            93             NaN  \n",
       "8            95   b2o@gmail.com  \n",
       "9            91   b2o@gmail.com  "
      ]
     },
     "execution_count": 45,
     "metadata": {},
     "output_type": "execute_result"
    }
   ],
   "source": [
    "df_old"
   ]
  },
  {
   "cell_type": "code",
   "execution_count": 46,
   "metadata": {
    "ExecuteTime": {
     "end_time": "2022-05-25T13:30:56.123404Z",
     "start_time": "2022-05-25T13:30:56.099765Z"
    }
   },
   "outputs": [
    {
     "data": {
      "text/html": [
       "<div>\n",
       "<style scoped>\n",
       "    .dataframe tbody tr th:only-of-type {\n",
       "        vertical-align: middle;\n",
       "    }\n",
       "\n",
       "    .dataframe tbody tr th {\n",
       "        vertical-align: top;\n",
       "    }\n",
       "\n",
       "    .dataframe thead th {\n",
       "        text-align: right;\n",
       "    }\n",
       "</style>\n",
       "<table border=\"1\" class=\"dataframe\">\n",
       "  <thead>\n",
       "    <tr style=\"text-align: right;\">\n",
       "      <th></th>\n",
       "      <th>client_id</th>\n",
       "      <th>Nom</th>\n",
       "      <th>Prénom</th>\n",
       "      <th>Annee_naissance</th>\n",
       "      <th>Statut</th>\n",
       "      <th>Département</th>\n",
       "      <th>téléphone</th>\n",
       "    </tr>\n",
       "  </thead>\n",
       "  <tbody>\n",
       "    <tr>\n",
       "      <th>0</th>\n",
       "      <td>1</td>\n",
       "      <td>Lelievre</td>\n",
       "      <td>Florentine</td>\n",
       "      <td>1995.0</td>\n",
       "      <td>Marié</td>\n",
       "      <td>92</td>\n",
       "      <td>777777777</td>\n",
       "    </tr>\n",
       "    <tr>\n",
       "      <th>1</th>\n",
       "      <td>2</td>\n",
       "      <td>Pitard</td>\n",
       "      <td>Alexandro</td>\n",
       "      <td>2000.0</td>\n",
       "      <td>Marié</td>\n",
       "      <td>92</td>\n",
       "      <td>777777777</td>\n",
       "    </tr>\n",
       "    <tr>\n",
       "      <th>2</th>\n",
       "      <td>3</td>\n",
       "      <td>Marcheix</td>\n",
       "      <td>Wandrille</td>\n",
       "      <td>1999.0</td>\n",
       "      <td>Marié</td>\n",
       "      <td>93</td>\n",
       "      <td>777777777</td>\n",
       "    </tr>\n",
       "    <tr>\n",
       "      <th>3</th>\n",
       "      <td>4</td>\n",
       "      <td>Martigny</td>\n",
       "      <td>Stefan</td>\n",
       "      <td>2000.0</td>\n",
       "      <td>Marié</td>\n",
       "      <td>94</td>\n",
       "      <td>777777777</td>\n",
       "    </tr>\n",
       "    <tr>\n",
       "      <th>4</th>\n",
       "      <td>5</td>\n",
       "      <td>Assailly</td>\n",
       "      <td>Rosanna</td>\n",
       "      <td>1993.0</td>\n",
       "      <td>Divorcé</td>\n",
       "      <td>93</td>\n",
       "      <td>777777777</td>\n",
       "    </tr>\n",
       "    <tr>\n",
       "      <th>5</th>\n",
       "      <td>11</td>\n",
       "      <td>Montillet</td>\n",
       "      <td>Deborah</td>\n",
       "      <td>1994.0</td>\n",
       "      <td>Marié</td>\n",
       "      <td>94</td>\n",
       "      <td>777777777</td>\n",
       "    </tr>\n",
       "    <tr>\n",
       "      <th>6</th>\n",
       "      <td>12</td>\n",
       "      <td>Furet</td>\n",
       "      <td>Cheikh</td>\n",
       "      <td>1996.0</td>\n",
       "      <td>Divorcé</td>\n",
       "      <td>92</td>\n",
       "      <td>777777777</td>\n",
       "    </tr>\n",
       "    <tr>\n",
       "      <th>7</th>\n",
       "      <td>13</td>\n",
       "      <td>Faur</td>\n",
       "      <td>Aleksandar</td>\n",
       "      <td>NaN</td>\n",
       "      <td>Célibataire</td>\n",
       "      <td>94</td>\n",
       "      <td>777777777</td>\n",
       "    </tr>\n",
       "    <tr>\n",
       "      <th>8</th>\n",
       "      <td>14</td>\n",
       "      <td>Sagne</td>\n",
       "      <td>Camillia</td>\n",
       "      <td>1992.0</td>\n",
       "      <td>Célibataire</td>\n",
       "      <td>93</td>\n",
       "      <td>777777777</td>\n",
       "    </tr>\n",
       "  </tbody>\n",
       "</table>\n",
       "</div>"
      ],
      "text/plain": [
       "   client_id        Nom      Prénom   Annee_naissance       Statut  \\\n",
       "0          1   Lelievre  Florentine            1995.0        Marié   \n",
       "1          2     Pitard   Alexandro            2000.0        Marié   \n",
       "2          3   Marcheix   Wandrille            1999.0        Marié   \n",
       "3          4   Martigny      Stefan            2000.0        Marié   \n",
       "4          5   Assailly     Rosanna            1993.0      Divorcé   \n",
       "5         11  Montillet     Deborah            1994.0        Marié   \n",
       "6         12      Furet      Cheikh            1996.0      Divorcé   \n",
       "7         13       Faur  Aleksandar               NaN  Célibataire   \n",
       "8         14      Sagne    Camillia            1992.0  Célibataire   \n",
       "\n",
       "    Département  téléphone  \n",
       "0            92  777777777  \n",
       "1            92  777777777  \n",
       "2            93  777777777  \n",
       "3            94  777777777  \n",
       "4            93  777777777  \n",
       "5            94  777777777  \n",
       "6            92  777777777  \n",
       "7            94  777777777  \n",
       "8            93  777777777  "
      ]
     },
     "execution_count": 46,
     "metadata": {},
     "output_type": "execute_result"
    }
   ],
   "source": [
    "df_new"
   ]
  },
  {
   "cell_type": "markdown",
   "metadata": {},
   "source": [
    "## Comparaison"
   ]
  },
  {
   "cell_type": "code",
   "execution_count": 71,
   "metadata": {
    "ExecuteTime": {
     "end_time": "2022-05-25T13:56:37.615041Z",
     "start_time": "2022-05-25T13:56:37.575850Z"
    }
   },
   "outputs": [],
   "source": [
    "compare = datacompy.Compare(\n",
    "    \n",
    "    # dataframes\n",
    "    df1=df_old,\n",
    "    df2=df_new,\n",
    "\n",
    "    # colonnes de jointure (Nom de colonne ou liste de noms de colonnes)\n",
    "    join_columns='client_id',\n",
    "\n",
    "    # Si True, les index seront utilisés comme clés de jointures. il ne peut être utilisé au même moment que join_columns\n",
    "    on_index=False,\n",
    "\n",
    "    # Optionnel : Nom du premier dataframe, 'df1' par défaut\n",
    "    df1_name='_old',\n",
    "\n",
    "    # Optionnel : Nom du deuxième dataframe, 'df2' par défaut\n",
    "    df2_name='_new',\n",
    "    \n",
    "    # Indique si les noms de colonnes vont être converties en minuscule, True par défaut\n",
    "    cast_column_names_lower=False,\n",
    "\n",
    "    # Optionnel : Supprimer les espaces au début et à la fin des colonnes textes\n",
    "    ignore_spaces=False,\n",
    "\n",
    "    # Optionnel : Ignorer la casse des colonnes textes\n",
    "    ignore_case=False,\n",
    "\n",
    "    # Optionnel : Tolérence absolue entre deux valeurs\n",
    "    abs_tol=0,\n",
    "\n",
    "    # Optionnel : Tolérence relative entre deux valeurs\n",
    "    rel_tol=0\n",
    ")"
   ]
  },
  {
   "cell_type": "markdown",
   "metadata": {},
   "source": [
    "## Affichage du rapport"
   ]
  },
  {
   "cell_type": "code",
   "execution_count": 63,
   "metadata": {
    "ExecuteTime": {
     "end_time": "2022-05-25T13:39:17.335996Z",
     "start_time": "2022-05-25T13:39:17.315443Z"
    }
   },
   "outputs": [
    {
     "data": {
      "text/plain": [
       "True"
      ]
     },
     "execution_count": 63,
     "metadata": {},
     "output_type": "execute_result"
    }
   ],
   "source": [
    "# Les deux dataframes sont-ils égaux ? \n",
    "compare.matches(ignore_extra_columns = True)   "
   ]
  },
  {
   "cell_type": "code",
   "execution_count": 64,
   "metadata": {
    "ExecuteTime": {
     "end_time": "2022-05-25T13:39:29.147189Z",
     "start_time": "2022-05-25T13:39:29.130392Z"
    }
   },
   "outputs": [],
   "source": [
    "?datacompy.Compare.matches"
   ]
  },
  {
   "cell_type": "code",
   "execution_count": 49,
   "metadata": {
    "ExecuteTime": {
     "end_time": "2022-05-25T13:30:58.785771Z",
     "start_time": "2022-05-25T13:30:58.739682Z"
    }
   },
   "outputs": [
    {
     "name": "stdout",
     "output_type": "stream",
     "text": [
      "DataComPy Comparison\n",
      "--------------------\n",
      "\n",
      "DataFrame Summary\n",
      "-----------------\n",
      "\n",
      "  DataFrame  Columns  Rows\n",
      "0      _old        7    10\n",
      "1      _new        7     9\n",
      "\n",
      "Column Summary\n",
      "--------------\n",
      "\n",
      "Number of columns in common: 6\n",
      "Number of columns in _old but not in _new: 1\n",
      "Number of columns in _new but not in _old: 1\n",
      "\n",
      "Row Summary\n",
      "-----------\n",
      "\n",
      "Matched on: client_id\n",
      "Any duplicates on match values: No\n",
      "Absolute Tolerance: 0\n",
      "Relative Tolerance: 0\n",
      "Number of rows in common: 5\n",
      "Number of rows in _old but not in _new: 5\n",
      "Number of rows in _new but not in _old: 4\n",
      "\n",
      "Number of rows with some compared columns unequal: 5\n",
      "Number of rows with all compared columns equal: 0\n",
      "\n",
      "Column Comparison\n",
      "-----------------\n",
      "\n",
      "Number of columns compared with some values unequal: 3\n",
      "Number of columns compared with all values equal: 3\n",
      "Total number of values which compare unequal: 6\n",
      "\n",
      "Columns with Unequal Values or Types\n",
      "------------------------------------\n",
      "\n",
      "             Column _old dtype _new dtype  # Unequal  Max Diff  # Null Diff\n",
      "0   Annee_naissance    float64    float64          1       0.0            1\n",
      "2       Département      int64      int64          2       3.0            0\n",
      "1            Statut     object     object          3       0.0            0\n",
      "\n",
      "Sample Rows with Unequal Values\n",
      "-------------------------------\n",
      "\n",
      "   client_id   Annee_naissance (_old)   Annee_naissance (_new)\n",
      "1          2                      NaN                   2000.0\n",
      "\n",
      "   client_id  Statut (_old)  Statut (_new)\n",
      "2          3        Divorcé          Marié\n",
      "4          5          Marié        Divorcé\n",
      "3          4    Célibataire          Marié\n",
      "\n",
      "   client_id   Département (_old)   Département (_new)\n",
      "0          1                 93.0                 92.0\n",
      "3          4                 91.0                 94.0\n",
      "\n",
      "Sample Rows Only in _old (First 10 Columns)\n",
      "-------------------------------------------\n",
      "\n",
      "   client_id      Nom   Prénom   Annee_naissance       Statut   Département           email\n",
      "9         10   Couder    Idris            1991.0        Marié          91.0   b2o@gmail.com\n",
      "7          8  Vayssie  Ilyasse               NaN      Divorcé          93.0             NaN\n",
      "8          9   Landon    Daoud            1997.0  Célibataire          95.0   b2o@gmail.com\n",
      "6          7   Duboue     Musa            1990.0      Divorcé          92.0             NaN\n",
      "5          6  Grillon   Antton            1996.0      Divorcé          93.0  kkgk@gmail.com\n",
      "\n",
      "Sample Rows Only in _new (First 10 Columns)\n",
      "-------------------------------------------\n",
      "\n",
      "    client_id        Nom      Prénom   Annee_naissance       Statut   Département    téléphone\n",
      "12         13       Faur  Aleksandar               NaN  Célibataire          94.0  777777777.0\n",
      "11         12      Furet      Cheikh            1996.0      Divorcé          92.0  777777777.0\n",
      "10         11  Montillet     Deborah            1994.0        Marié          94.0  777777777.0\n",
      "13         14      Sagne    Camillia            1992.0  Célibataire          93.0  777777777.0\n",
      "\n",
      "\n"
     ]
    }
   ],
   "source": [
    "# Afficher les différences\n",
    "print(compare.report())"
   ]
  },
  {
   "cell_type": "markdown",
   "metadata": {},
   "source": [
    "## Lignes uniques de chaque dataframe"
   ]
  },
  {
   "cell_type": "code",
   "execution_count": 58,
   "metadata": {
    "ExecuteTime": {
     "end_time": "2022-05-25T13:37:27.228742Z",
     "start_time": "2022-05-25T13:37:27.185535Z"
    }
   },
   "outputs": [
    {
     "name": "stdout",
     "output_type": "stream",
     "text": [
      "\n",
      "Colonnes présentes dans les deux Dataframes :  OrderedSet(['client_id', ' Nom', ' Prénom', ' Annee_naissance', ' Statut', ' Département'])\n"
     ]
    },
    {
     "data": {
      "text/html": [
       "<div>\n",
       "<style scoped>\n",
       "    .dataframe tbody tr th:only-of-type {\n",
       "        vertical-align: middle;\n",
       "    }\n",
       "\n",
       "    .dataframe tbody tr th {\n",
       "        vertical-align: top;\n",
       "    }\n",
       "\n",
       "    .dataframe thead th {\n",
       "        text-align: right;\n",
       "    }\n",
       "</style>\n",
       "<table border=\"1\" class=\"dataframe\">\n",
       "  <thead>\n",
       "    <tr style=\"text-align: right;\">\n",
       "      <th></th>\n",
       "      <th>client_id</th>\n",
       "      <th>Nom</th>\n",
       "      <th>Prénom</th>\n",
       "      <th>Annee_naissance</th>\n",
       "      <th>Statut</th>\n",
       "      <th>Département</th>\n",
       "      <th>email</th>\n",
       "    </tr>\n",
       "  </thead>\n",
       "  <tbody>\n",
       "    <tr>\n",
       "      <th>5</th>\n",
       "      <td>6</td>\n",
       "      <td>Grillon</td>\n",
       "      <td>Antton</td>\n",
       "      <td>1996.0</td>\n",
       "      <td>Divorcé</td>\n",
       "      <td>93.0</td>\n",
       "      <td>kkgk@gmail.com</td>\n",
       "    </tr>\n",
       "    <tr>\n",
       "      <th>6</th>\n",
       "      <td>7</td>\n",
       "      <td>Duboue</td>\n",
       "      <td>Musa</td>\n",
       "      <td>1990.0</td>\n",
       "      <td>Divorcé</td>\n",
       "      <td>92.0</td>\n",
       "      <td>NaN</td>\n",
       "    </tr>\n",
       "    <tr>\n",
       "      <th>7</th>\n",
       "      <td>8</td>\n",
       "      <td>Vayssie</td>\n",
       "      <td>Ilyasse</td>\n",
       "      <td>NaN</td>\n",
       "      <td>Divorcé</td>\n",
       "      <td>93.0</td>\n",
       "      <td>NaN</td>\n",
       "    </tr>\n",
       "    <tr>\n",
       "      <th>8</th>\n",
       "      <td>9</td>\n",
       "      <td>Landon</td>\n",
       "      <td>Daoud</td>\n",
       "      <td>1997.0</td>\n",
       "      <td>Célibataire</td>\n",
       "      <td>95.0</td>\n",
       "      <td>b2o@gmail.com</td>\n",
       "    </tr>\n",
       "    <tr>\n",
       "      <th>9</th>\n",
       "      <td>10</td>\n",
       "      <td>Couder</td>\n",
       "      <td>Idris</td>\n",
       "      <td>1991.0</td>\n",
       "      <td>Marié</td>\n",
       "      <td>91.0</td>\n",
       "      <td>b2o@gmail.com</td>\n",
       "    </tr>\n",
       "  </tbody>\n",
       "</table>\n",
       "</div>"
      ],
      "text/plain": [
       "   client_id      Nom   Prénom   Annee_naissance       Statut   Département  \\\n",
       "5          6  Grillon   Antton            1996.0      Divorcé          93.0   \n",
       "6          7   Duboue     Musa            1990.0      Divorcé          92.0   \n",
       "7          8  Vayssie  Ilyasse               NaN      Divorcé          93.0   \n",
       "8          9   Landon    Daoud            1997.0  Célibataire          95.0   \n",
       "9         10   Couder    Idris            1991.0        Marié          91.0   \n",
       "\n",
       "            email  \n",
       "5  kkgk@gmail.com  \n",
       "6             NaN  \n",
       "7             NaN  \n",
       "8   b2o@gmail.com  \n",
       "9   b2o@gmail.com  "
      ]
     },
     "metadata": {},
     "output_type": "display_data"
    },
    {
     "name": "stdout",
     "output_type": "stream",
     "text": [
      "Colonnes présentes uniquements dans _old :  OrderedSet(['email'])\n"
     ]
    },
    {
     "data": {
      "text/html": [
       "<div>\n",
       "<style scoped>\n",
       "    .dataframe tbody tr th:only-of-type {\n",
       "        vertical-align: middle;\n",
       "    }\n",
       "\n",
       "    .dataframe tbody tr th {\n",
       "        vertical-align: top;\n",
       "    }\n",
       "\n",
       "    .dataframe thead th {\n",
       "        text-align: right;\n",
       "    }\n",
       "</style>\n",
       "<table border=\"1\" class=\"dataframe\">\n",
       "  <thead>\n",
       "    <tr style=\"text-align: right;\">\n",
       "      <th></th>\n",
       "      <th>client_id</th>\n",
       "      <th>Nom</th>\n",
       "      <th>Prénom</th>\n",
       "      <th>Annee_naissance</th>\n",
       "      <th>Statut</th>\n",
       "      <th>Département</th>\n",
       "      <th>téléphone</th>\n",
       "    </tr>\n",
       "  </thead>\n",
       "  <tbody>\n",
       "    <tr>\n",
       "      <th>10</th>\n",
       "      <td>11</td>\n",
       "      <td>Montillet</td>\n",
       "      <td>Deborah</td>\n",
       "      <td>1994.0</td>\n",
       "      <td>Marié</td>\n",
       "      <td>94.0</td>\n",
       "      <td>777777777.0</td>\n",
       "    </tr>\n",
       "    <tr>\n",
       "      <th>11</th>\n",
       "      <td>12</td>\n",
       "      <td>Furet</td>\n",
       "      <td>Cheikh</td>\n",
       "      <td>1996.0</td>\n",
       "      <td>Divorcé</td>\n",
       "      <td>92.0</td>\n",
       "      <td>777777777.0</td>\n",
       "    </tr>\n",
       "    <tr>\n",
       "      <th>12</th>\n",
       "      <td>13</td>\n",
       "      <td>Faur</td>\n",
       "      <td>Aleksandar</td>\n",
       "      <td>NaN</td>\n",
       "      <td>Célibataire</td>\n",
       "      <td>94.0</td>\n",
       "      <td>777777777.0</td>\n",
       "    </tr>\n",
       "    <tr>\n",
       "      <th>13</th>\n",
       "      <td>14</td>\n",
       "      <td>Sagne</td>\n",
       "      <td>Camillia</td>\n",
       "      <td>1992.0</td>\n",
       "      <td>Célibataire</td>\n",
       "      <td>93.0</td>\n",
       "      <td>777777777.0</td>\n",
       "    </tr>\n",
       "  </tbody>\n",
       "</table>\n",
       "</div>"
      ],
      "text/plain": [
       "    client_id        Nom      Prénom   Annee_naissance       Statut  \\\n",
       "10         11  Montillet     Deborah            1994.0        Marié   \n",
       "11         12      Furet      Cheikh            1996.0      Divorcé   \n",
       "12         13       Faur  Aleksandar               NaN  Célibataire   \n",
       "13         14      Sagne    Camillia            1992.0  Célibataire   \n",
       "\n",
       "     Département    téléphone  \n",
       "10          94.0  777777777.0  \n",
       "11          92.0  777777777.0  \n",
       "12          94.0  777777777.0  \n",
       "13          93.0  777777777.0  "
      ]
     },
     "metadata": {},
     "output_type": "display_data"
    },
    {
     "name": "stdout",
     "output_type": "stream",
     "text": [
      "Colonnes présentes uniquements dans _old :  OrderedSet(['téléphone'])\n"
     ]
    }
   ],
   "source": [
    "print(\"\\nColonnes présentes dans les deux Dataframes : \", compare.intersect_columns())\n",
    "\n",
    "# Données uniquements dans _old\n",
    "df_old_unique_rows = compare.df1_unq_rows\n",
    "display(df_old_unique_rows)\n",
    "print(\"Colonnes présentes uniquements dans _old : \", df_old_unique_columns)\n",
    "\n",
    "# Données uniquements dans _new\n",
    "df_new_unique_rows = compare.df2_unq_rows\n",
    "display(df_new_unique_rows)\n",
    "print(\"Colonnes présentes uniquements dans _new : \", compare.df2_unq_columns())"
   ]
  },
  {
   "cell_type": "markdown",
   "metadata": {},
   "source": [
    "## Modification de données"
   ]
  },
  {
   "cell_type": "code",
   "execution_count": 77,
   "metadata": {
    "ExecuteTime": {
     "end_time": "2022-05-25T14:00:01.407751Z",
     "start_time": "2022-05-25T14:00:01.384663Z"
    }
   },
   "outputs": [
    {
     "data": {
      "text/html": [
       "<div>\n",
       "<style scoped>\n",
       "    .dataframe tbody tr th:only-of-type {\n",
       "        vertical-align: middle;\n",
       "    }\n",
       "\n",
       "    .dataframe tbody tr th {\n",
       "        vertical-align: top;\n",
       "    }\n",
       "\n",
       "    .dataframe thead th {\n",
       "        text-align: right;\n",
       "    }\n",
       "</style>\n",
       "<table border=\"1\" class=\"dataframe\">\n",
       "  <thead>\n",
       "    <tr style=\"text-align: right;\">\n",
       "      <th></th>\n",
       "      <th>client_id</th>\n",
       "      <th>Nom_df1</th>\n",
       "      <th>Nom_df2</th>\n",
       "      <th>Prénom_df1</th>\n",
       "      <th>Prénom_df2</th>\n",
       "      <th>Annee_naissance_df1</th>\n",
       "      <th>Annee_naissance_df2</th>\n",
       "      <th>Statut_df1</th>\n",
       "      <th>Statut_df2</th>\n",
       "      <th>Département_df1</th>\n",
       "      <th>Département_df2</th>\n",
       "    </tr>\n",
       "  </thead>\n",
       "  <tbody>\n",
       "    <tr>\n",
       "      <th>0</th>\n",
       "      <td>1</td>\n",
       "      <td>Lelievre</td>\n",
       "      <td>Lelievre</td>\n",
       "      <td>Florentine</td>\n",
       "      <td>Florentine</td>\n",
       "      <td>1995.0</td>\n",
       "      <td>1995.0</td>\n",
       "      <td>Marié</td>\n",
       "      <td>Marié</td>\n",
       "      <td>93.0</td>\n",
       "      <td>92.0</td>\n",
       "    </tr>\n",
       "    <tr>\n",
       "      <th>1</th>\n",
       "      <td>2</td>\n",
       "      <td>Pitard</td>\n",
       "      <td>Pitard</td>\n",
       "      <td>Alexandro</td>\n",
       "      <td>Alexandro</td>\n",
       "      <td>NaN</td>\n",
       "      <td>2000.0</td>\n",
       "      <td>Marié</td>\n",
       "      <td>Marié</td>\n",
       "      <td>92.0</td>\n",
       "      <td>92.0</td>\n",
       "    </tr>\n",
       "    <tr>\n",
       "      <th>2</th>\n",
       "      <td>3</td>\n",
       "      <td>Marcheix</td>\n",
       "      <td>Marcheix</td>\n",
       "      <td>Wandrille</td>\n",
       "      <td>Wandrille</td>\n",
       "      <td>1999.0</td>\n",
       "      <td>1999.0</td>\n",
       "      <td>Divorcé</td>\n",
       "      <td>Marié</td>\n",
       "      <td>93.0</td>\n",
       "      <td>93.0</td>\n",
       "    </tr>\n",
       "    <tr>\n",
       "      <th>3</th>\n",
       "      <td>4</td>\n",
       "      <td>Martigny</td>\n",
       "      <td>Martigny</td>\n",
       "      <td>Stefan</td>\n",
       "      <td>Stefan</td>\n",
       "      <td>2000.0</td>\n",
       "      <td>2000.0</td>\n",
       "      <td>Célibataire</td>\n",
       "      <td>Marié</td>\n",
       "      <td>91.0</td>\n",
       "      <td>94.0</td>\n",
       "    </tr>\n",
       "    <tr>\n",
       "      <th>4</th>\n",
       "      <td>5</td>\n",
       "      <td>Assailly</td>\n",
       "      <td>Assailly</td>\n",
       "      <td>Rosanna</td>\n",
       "      <td>Rosanna</td>\n",
       "      <td>1993.0</td>\n",
       "      <td>1993.0</td>\n",
       "      <td>Marié</td>\n",
       "      <td>Divorcé</td>\n",
       "      <td>93.0</td>\n",
       "      <td>93.0</td>\n",
       "    </tr>\n",
       "  </tbody>\n",
       "</table>\n",
       "</div>"
      ],
      "text/plain": [
       "   client_id   Nom_df1   Nom_df2  Prénom_df1  Prénom_df2  \\\n",
       "0          1  Lelievre  Lelievre  Florentine  Florentine   \n",
       "1          2    Pitard    Pitard   Alexandro   Alexandro   \n",
       "2          3  Marcheix  Marcheix   Wandrille   Wandrille   \n",
       "3          4  Martigny  Martigny      Stefan      Stefan   \n",
       "4          5  Assailly  Assailly     Rosanna     Rosanna   \n",
       "\n",
       "    Annee_naissance_df1   Annee_naissance_df2   Statut_df1  Statut_df2  \\\n",
       "0                1995.0                1995.0        Marié       Marié   \n",
       "1                   NaN                2000.0        Marié       Marié   \n",
       "2                1999.0                1999.0      Divorcé       Marié   \n",
       "3                2000.0                2000.0  Célibataire       Marié   \n",
       "4                1993.0                1993.0        Marié     Divorcé   \n",
       "\n",
       "    Département_df1   Département_df2  \n",
       "0              93.0              92.0  \n",
       "1              92.0              92.0  \n",
       "2              93.0              93.0  \n",
       "3              91.0              94.0  \n",
       "4              93.0              93.0  "
      ]
     },
     "execution_count": 77,
     "metadata": {},
     "output_type": "execute_result"
    }
   ],
   "source": [
    "# Données différentes\n",
    "compare.all_mismatch()"
   ]
  }
 ],
 "metadata": {
  "kernelspec": {
   "display_name": "Python 3 (ipykernel)",
   "language": "python",
   "name": "python3"
  },
  "language_info": {
   "codemirror_mode": {
    "name": "ipython",
    "version": 3
   },
   "file_extension": ".py",
   "mimetype": "text/x-python",
   "name": "python",
   "nbconvert_exporter": "python",
   "pygments_lexer": "ipython3",
   "version": "3.8.5"
  },
  "toc": {
   "base_numbering": 1,
   "nav_menu": {},
   "number_sections": true,
   "sideBar": true,
   "skip_h1_title": false,
   "title_cell": "Table of Contents",
   "title_sidebar": "Contents",
   "toc_cell": false,
   "toc_position": {},
   "toc_section_display": true,
   "toc_window_display": false
  },
  "varInspector": {
   "cols": {
    "lenName": 16,
    "lenType": 16,
    "lenVar": 40
   },
   "kernels_config": {
    "python": {
     "delete_cmd_postfix": "",
     "delete_cmd_prefix": "del ",
     "library": "var_list.py",
     "varRefreshCmd": "print(var_dic_list())"
    },
    "r": {
     "delete_cmd_postfix": ") ",
     "delete_cmd_prefix": "rm(",
     "library": "var_list.r",
     "varRefreshCmd": "cat(var_dic_list()) "
    }
   },
   "types_to_exclude": [
    "module",
    "function",
    "builtin_function_or_method",
    "instance",
    "_Feature"
   ],
   "window_display": false
  }
 },
 "nbformat": 4,
 "nbformat_minor": 4
}
